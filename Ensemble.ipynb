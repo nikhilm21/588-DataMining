{
 "cells": [
  {
   "cell_type": "code",
   "execution_count": 72,
   "id": "38bb7246-1a23-48ac-a765-a8ac3b2c8e5e",
   "metadata": {},
   "outputs": [],
   "source": [
    "import pandas as pd\n",
    "import numpy as np\n",
    "from sklearn.model_selection import train_test_split, GridSearchCV\n",
    "from sklearn.linear_model import LogisticRegression, LogisticRegressionCV\n",
    "from sklearn.tree import DecisionTreeClassifier\n",
    "from sklearn.svm import SVC\n",
    "from sklearn.ensemble import GradientBoostingClassifier, RandomForestClassifier, VotingClassifier, BaggingClassifier, AdaBoostClassifier\n",
    "import xgboost as xgb\n",
    "from sklearn.neighbors import KNeighborsClassifier\n",
    "from sklearn.preprocessing import StandardScaler\n",
    "import matplotlib.pyplot as plt\n",
    "from sklearn.metrics import plot_confusion_matrix, f1_score, roc_curve, auc, classification_report, confusion_matrix, precision_recall_curve, recall_score, precision_score, accuracy_score, roc_auc_score"
   ]
  },
  {
   "cell_type": "code",
   "execution_count": 2,
   "id": "a716630f-f288-488d-b566-8b06cb4337c6",
   "metadata": {},
   "outputs": [
    {
     "data": {
      "text/html": [
       "<div>\n",
       "<style scoped>\n",
       "    .dataframe tbody tr th:only-of-type {\n",
       "        vertical-align: middle;\n",
       "    }\n",
       "\n",
       "    .dataframe tbody tr th {\n",
       "        vertical-align: top;\n",
       "    }\n",
       "\n",
       "    .dataframe thead th {\n",
       "        text-align: right;\n",
       "    }\n",
       "</style>\n",
       "<table border=\"1\" class=\"dataframe\">\n",
       "  <thead>\n",
       "    <tr style=\"text-align: right;\">\n",
       "      <th></th>\n",
       "      <th>customerID</th>\n",
       "      <th>gender</th>\n",
       "      <th>SeniorCitizen</th>\n",
       "      <th>Partner</th>\n",
       "      <th>Dependents</th>\n",
       "      <th>tenure</th>\n",
       "      <th>PhoneService</th>\n",
       "      <th>MultipleLines</th>\n",
       "      <th>InternetService</th>\n",
       "      <th>OnlineSecurity</th>\n",
       "      <th>...</th>\n",
       "      <th>StreamingTV</th>\n",
       "      <th>StreamingMovies</th>\n",
       "      <th>Contract</th>\n",
       "      <th>PaperlessBilling</th>\n",
       "      <th>PaymentMethod</th>\n",
       "      <th>MonthlyCharges</th>\n",
       "      <th>TotalCharges</th>\n",
       "      <th>numAdminTickets</th>\n",
       "      <th>numTechTickets</th>\n",
       "      <th>Churn</th>\n",
       "    </tr>\n",
       "  </thead>\n",
       "  <tbody>\n",
       "    <tr>\n",
       "      <th>0</th>\n",
       "      <td>7590-VHVEG</td>\n",
       "      <td>Female</td>\n",
       "      <td>0</td>\n",
       "      <td>Yes</td>\n",
       "      <td>No</td>\n",
       "      <td>1</td>\n",
       "      <td>No</td>\n",
       "      <td>No phone service</td>\n",
       "      <td>DSL</td>\n",
       "      <td>No</td>\n",
       "      <td>...</td>\n",
       "      <td>No</td>\n",
       "      <td>No</td>\n",
       "      <td>Month-to-month</td>\n",
       "      <td>Yes</td>\n",
       "      <td>Electronic check</td>\n",
       "      <td>29.85</td>\n",
       "      <td>29.85</td>\n",
       "      <td>0</td>\n",
       "      <td>0</td>\n",
       "      <td>No</td>\n",
       "    </tr>\n",
       "    <tr>\n",
       "      <th>1</th>\n",
       "      <td>5575-GNVDE</td>\n",
       "      <td>Male</td>\n",
       "      <td>0</td>\n",
       "      <td>No</td>\n",
       "      <td>No</td>\n",
       "      <td>34</td>\n",
       "      <td>Yes</td>\n",
       "      <td>No</td>\n",
       "      <td>DSL</td>\n",
       "      <td>Yes</td>\n",
       "      <td>...</td>\n",
       "      <td>No</td>\n",
       "      <td>No</td>\n",
       "      <td>One year</td>\n",
       "      <td>No</td>\n",
       "      <td>Mailed check</td>\n",
       "      <td>56.95</td>\n",
       "      <td>1889.5</td>\n",
       "      <td>0</td>\n",
       "      <td>0</td>\n",
       "      <td>No</td>\n",
       "    </tr>\n",
       "    <tr>\n",
       "      <th>2</th>\n",
       "      <td>3668-QPYBK</td>\n",
       "      <td>Male</td>\n",
       "      <td>0</td>\n",
       "      <td>No</td>\n",
       "      <td>No</td>\n",
       "      <td>2</td>\n",
       "      <td>Yes</td>\n",
       "      <td>No</td>\n",
       "      <td>DSL</td>\n",
       "      <td>Yes</td>\n",
       "      <td>...</td>\n",
       "      <td>No</td>\n",
       "      <td>No</td>\n",
       "      <td>Month-to-month</td>\n",
       "      <td>Yes</td>\n",
       "      <td>Mailed check</td>\n",
       "      <td>53.85</td>\n",
       "      <td>108.15</td>\n",
       "      <td>0</td>\n",
       "      <td>0</td>\n",
       "      <td>Yes</td>\n",
       "    </tr>\n",
       "    <tr>\n",
       "      <th>3</th>\n",
       "      <td>7795-CFOCW</td>\n",
       "      <td>Male</td>\n",
       "      <td>0</td>\n",
       "      <td>No</td>\n",
       "      <td>No</td>\n",
       "      <td>45</td>\n",
       "      <td>No</td>\n",
       "      <td>No phone service</td>\n",
       "      <td>DSL</td>\n",
       "      <td>Yes</td>\n",
       "      <td>...</td>\n",
       "      <td>No</td>\n",
       "      <td>No</td>\n",
       "      <td>One year</td>\n",
       "      <td>No</td>\n",
       "      <td>Bank transfer (automatic)</td>\n",
       "      <td>42.30</td>\n",
       "      <td>1840.75</td>\n",
       "      <td>0</td>\n",
       "      <td>3</td>\n",
       "      <td>No</td>\n",
       "    </tr>\n",
       "    <tr>\n",
       "      <th>4</th>\n",
       "      <td>9237-HQITU</td>\n",
       "      <td>Female</td>\n",
       "      <td>0</td>\n",
       "      <td>No</td>\n",
       "      <td>No</td>\n",
       "      <td>2</td>\n",
       "      <td>Yes</td>\n",
       "      <td>No</td>\n",
       "      <td>Fiber optic</td>\n",
       "      <td>No</td>\n",
       "      <td>...</td>\n",
       "      <td>No</td>\n",
       "      <td>No</td>\n",
       "      <td>Month-to-month</td>\n",
       "      <td>Yes</td>\n",
       "      <td>Electronic check</td>\n",
       "      <td>70.70</td>\n",
       "      <td>151.65</td>\n",
       "      <td>0</td>\n",
       "      <td>0</td>\n",
       "      <td>Yes</td>\n",
       "    </tr>\n",
       "  </tbody>\n",
       "</table>\n",
       "<p>5 rows × 23 columns</p>\n",
       "</div>"
      ],
      "text/plain": [
       "   customerID  gender  SeniorCitizen Partner Dependents  tenure PhoneService  \\\n",
       "0  7590-VHVEG  Female              0     Yes         No       1           No   \n",
       "1  5575-GNVDE    Male              0      No         No      34          Yes   \n",
       "2  3668-QPYBK    Male              0      No         No       2          Yes   \n",
       "3  7795-CFOCW    Male              0      No         No      45           No   \n",
       "4  9237-HQITU  Female              0      No         No       2          Yes   \n",
       "\n",
       "      MultipleLines InternetService OnlineSecurity  ... StreamingTV  \\\n",
       "0  No phone service             DSL             No  ...          No   \n",
       "1                No             DSL            Yes  ...          No   \n",
       "2                No             DSL            Yes  ...          No   \n",
       "3  No phone service             DSL            Yes  ...          No   \n",
       "4                No     Fiber optic             No  ...          No   \n",
       "\n",
       "  StreamingMovies        Contract PaperlessBilling              PaymentMethod  \\\n",
       "0              No  Month-to-month              Yes           Electronic check   \n",
       "1              No        One year               No               Mailed check   \n",
       "2              No  Month-to-month              Yes               Mailed check   \n",
       "3              No        One year               No  Bank transfer (automatic)   \n",
       "4              No  Month-to-month              Yes           Electronic check   \n",
       "\n",
       "  MonthlyCharges TotalCharges numAdminTickets  numTechTickets Churn  \n",
       "0          29.85        29.85               0               0    No  \n",
       "1          56.95       1889.5               0               0    No  \n",
       "2          53.85       108.15               0               0   Yes  \n",
       "3          42.30      1840.75               0               3    No  \n",
       "4          70.70       151.65               0               0   Yes  \n",
       "\n",
       "[5 rows x 23 columns]"
      ]
     },
     "execution_count": 2,
     "metadata": {},
     "output_type": "execute_result"
    }
   ],
   "source": [
    "churn_data = pd.read_excel('Churn_Data.xlsx')\n",
    "churn_data.head()"
   ]
  },
  {
   "cell_type": "code",
   "execution_count": 3,
   "id": "45c03986-f4b6-433a-9459-1f1d37026cd6",
   "metadata": {},
   "outputs": [
    {
     "data": {
      "text/html": [
       "<div>\n",
       "<style scoped>\n",
       "    .dataframe tbody tr th:only-of-type {\n",
       "        vertical-align: middle;\n",
       "    }\n",
       "\n",
       "    .dataframe tbody tr th {\n",
       "        vertical-align: top;\n",
       "    }\n",
       "\n",
       "    .dataframe thead th {\n",
       "        text-align: right;\n",
       "    }\n",
       "</style>\n",
       "<table border=\"1\" class=\"dataframe\">\n",
       "  <thead>\n",
       "    <tr style=\"text-align: right;\">\n",
       "      <th></th>\n",
       "      <th>customerID</th>\n",
       "      <th>SeniorCitizen</th>\n",
       "      <th>tenure</th>\n",
       "      <th>MonthlyCharges</th>\n",
       "      <th>TotalCharges</th>\n",
       "      <th>numAdminTickets</th>\n",
       "      <th>numTechTickets</th>\n",
       "      <th>Churn</th>\n",
       "      <th>gender_Male</th>\n",
       "      <th>Partner_Yes</th>\n",
       "      <th>...</th>\n",
       "      <th>StreamingTV_No internet service</th>\n",
       "      <th>StreamingTV_Yes</th>\n",
       "      <th>StreamingMovies_No internet service</th>\n",
       "      <th>StreamingMovies_Yes</th>\n",
       "      <th>Contract_One year</th>\n",
       "      <th>Contract_Two year</th>\n",
       "      <th>PaperlessBilling_Yes</th>\n",
       "      <th>PaymentMethod_Credit card (automatic)</th>\n",
       "      <th>PaymentMethod_Electronic check</th>\n",
       "      <th>PaymentMethod_Mailed check</th>\n",
       "    </tr>\n",
       "  </thead>\n",
       "  <tbody>\n",
       "    <tr>\n",
       "      <th>0</th>\n",
       "      <td>7590-VHVEG</td>\n",
       "      <td>0</td>\n",
       "      <td>1</td>\n",
       "      <td>29.85</td>\n",
       "      <td>29.85</td>\n",
       "      <td>0</td>\n",
       "      <td>0</td>\n",
       "      <td>No</td>\n",
       "      <td>0</td>\n",
       "      <td>1</td>\n",
       "      <td>...</td>\n",
       "      <td>0</td>\n",
       "      <td>0</td>\n",
       "      <td>0</td>\n",
       "      <td>0</td>\n",
       "      <td>0</td>\n",
       "      <td>0</td>\n",
       "      <td>1</td>\n",
       "      <td>0</td>\n",
       "      <td>1</td>\n",
       "      <td>0</td>\n",
       "    </tr>\n",
       "    <tr>\n",
       "      <th>1</th>\n",
       "      <td>5575-GNVDE</td>\n",
       "      <td>0</td>\n",
       "      <td>34</td>\n",
       "      <td>56.95</td>\n",
       "      <td>1889.5</td>\n",
       "      <td>0</td>\n",
       "      <td>0</td>\n",
       "      <td>No</td>\n",
       "      <td>1</td>\n",
       "      <td>0</td>\n",
       "      <td>...</td>\n",
       "      <td>0</td>\n",
       "      <td>0</td>\n",
       "      <td>0</td>\n",
       "      <td>0</td>\n",
       "      <td>1</td>\n",
       "      <td>0</td>\n",
       "      <td>0</td>\n",
       "      <td>0</td>\n",
       "      <td>0</td>\n",
       "      <td>1</td>\n",
       "    </tr>\n",
       "    <tr>\n",
       "      <th>2</th>\n",
       "      <td>3668-QPYBK</td>\n",
       "      <td>0</td>\n",
       "      <td>2</td>\n",
       "      <td>53.85</td>\n",
       "      <td>108.15</td>\n",
       "      <td>0</td>\n",
       "      <td>0</td>\n",
       "      <td>Yes</td>\n",
       "      <td>1</td>\n",
       "      <td>0</td>\n",
       "      <td>...</td>\n",
       "      <td>0</td>\n",
       "      <td>0</td>\n",
       "      <td>0</td>\n",
       "      <td>0</td>\n",
       "      <td>0</td>\n",
       "      <td>0</td>\n",
       "      <td>1</td>\n",
       "      <td>0</td>\n",
       "      <td>0</td>\n",
       "      <td>1</td>\n",
       "    </tr>\n",
       "    <tr>\n",
       "      <th>3</th>\n",
       "      <td>7795-CFOCW</td>\n",
       "      <td>0</td>\n",
       "      <td>45</td>\n",
       "      <td>42.30</td>\n",
       "      <td>1840.75</td>\n",
       "      <td>0</td>\n",
       "      <td>3</td>\n",
       "      <td>No</td>\n",
       "      <td>1</td>\n",
       "      <td>0</td>\n",
       "      <td>...</td>\n",
       "      <td>0</td>\n",
       "      <td>0</td>\n",
       "      <td>0</td>\n",
       "      <td>0</td>\n",
       "      <td>1</td>\n",
       "      <td>0</td>\n",
       "      <td>0</td>\n",
       "      <td>0</td>\n",
       "      <td>0</td>\n",
       "      <td>0</td>\n",
       "    </tr>\n",
       "    <tr>\n",
       "      <th>4</th>\n",
       "      <td>9237-HQITU</td>\n",
       "      <td>0</td>\n",
       "      <td>2</td>\n",
       "      <td>70.70</td>\n",
       "      <td>151.65</td>\n",
       "      <td>0</td>\n",
       "      <td>0</td>\n",
       "      <td>Yes</td>\n",
       "      <td>0</td>\n",
       "      <td>0</td>\n",
       "      <td>...</td>\n",
       "      <td>0</td>\n",
       "      <td>0</td>\n",
       "      <td>0</td>\n",
       "      <td>0</td>\n",
       "      <td>0</td>\n",
       "      <td>0</td>\n",
       "      <td>1</td>\n",
       "      <td>0</td>\n",
       "      <td>1</td>\n",
       "      <td>0</td>\n",
       "    </tr>\n",
       "  </tbody>\n",
       "</table>\n",
       "<p>5 rows × 34 columns</p>\n",
       "</div>"
      ],
      "text/plain": [
       "   customerID  SeniorCitizen  tenure  MonthlyCharges TotalCharges  \\\n",
       "0  7590-VHVEG              0       1           29.85        29.85   \n",
       "1  5575-GNVDE              0      34           56.95       1889.5   \n",
       "2  3668-QPYBK              0       2           53.85       108.15   \n",
       "3  7795-CFOCW              0      45           42.30      1840.75   \n",
       "4  9237-HQITU              0       2           70.70       151.65   \n",
       "\n",
       "   numAdminTickets  numTechTickets Churn  gender_Male  Partner_Yes  ...  \\\n",
       "0                0               0    No            0            1  ...   \n",
       "1                0               0    No            1            0  ...   \n",
       "2                0               0   Yes            1            0  ...   \n",
       "3                0               3    No            1            0  ...   \n",
       "4                0               0   Yes            0            0  ...   \n",
       "\n",
       "   StreamingTV_No internet service  StreamingTV_Yes  \\\n",
       "0                                0                0   \n",
       "1                                0                0   \n",
       "2                                0                0   \n",
       "3                                0                0   \n",
       "4                                0                0   \n",
       "\n",
       "   StreamingMovies_No internet service  StreamingMovies_Yes  \\\n",
       "0                                    0                    0   \n",
       "1                                    0                    0   \n",
       "2                                    0                    0   \n",
       "3                                    0                    0   \n",
       "4                                    0                    0   \n",
       "\n",
       "   Contract_One year  Contract_Two year  PaperlessBilling_Yes  \\\n",
       "0                  0                  0                     1   \n",
       "1                  1                  0                     0   \n",
       "2                  0                  0                     1   \n",
       "3                  1                  0                     0   \n",
       "4                  0                  0                     1   \n",
       "\n",
       "   PaymentMethod_Credit card (automatic)  PaymentMethod_Electronic check  \\\n",
       "0                                      0                               1   \n",
       "1                                      0                               0   \n",
       "2                                      0                               0   \n",
       "3                                      0                               0   \n",
       "4                                      0                               1   \n",
       "\n",
       "   PaymentMethod_Mailed check  \n",
       "0                           0  \n",
       "1                           1  \n",
       "2                           1  \n",
       "3                           0  \n",
       "4                           0  \n",
       "\n",
       "[5 rows x 34 columns]"
      ]
     },
     "execution_count": 3,
     "metadata": {},
     "output_type": "execute_result"
    }
   ],
   "source": [
    "cols = churn_data.columns.to_list()\n",
    "\n",
    "object_cols = []\n",
    "\n",
    "for col in cols:\n",
    "    if churn_data[col].dtype == object and col not in ['customerID', 'TotalCharges', 'Churn']:\n",
    "        object_cols.append(col)\n",
    "\n",
    "churn_data = pd.get_dummies(churn_data, columns = object_cols, drop_first = True)\n",
    "churn_data.head()"
   ]
  },
  {
   "cell_type": "code",
   "execution_count": 4,
   "id": "660e7ff2-bc39-4963-8881-ae0d675f5fb5",
   "metadata": {},
   "outputs": [
    {
     "data": {
      "text/plain": [
       "(7032, 34)"
      ]
     },
     "execution_count": 4,
     "metadata": {},
     "output_type": "execute_result"
    }
   ],
   "source": [
    "churn_data.drop(churn_data[churn_data['TotalCharges'] == ' '].index, inplace=True)\n",
    "churn_data.shape"
   ]
  },
  {
   "cell_type": "code",
   "execution_count": 5,
   "id": "2bce9cee-c6e6-4ea1-b15a-aeb83242268c",
   "metadata": {},
   "outputs": [],
   "source": [
    "churn_data['TotalCharges'] = churn_data['TotalCharges'].astype(float)"
   ]
  },
  {
   "cell_type": "code",
   "execution_count": 6,
   "id": "40facac1-6f48-4848-865b-a0d8c28f908d",
   "metadata": {},
   "outputs": [],
   "source": [
    "churn_data['Churn'].replace(['No', 'Yes'], [0, 1], inplace = True)"
   ]
  },
  {
   "cell_type": "code",
   "execution_count": 7,
   "id": "83a40558-e4ab-484e-9c95-9fbdc2c2b6da",
   "metadata": {},
   "outputs": [],
   "source": [
    "X = churn_data.drop(['customerID', 'Churn'], axis = 1)\n",
    "y = churn_data['Churn']"
   ]
  },
  {
   "cell_type": "code",
   "execution_count": 8,
   "id": "2e968e07-58d6-4fd2-957f-d2ac35d5330b",
   "metadata": {},
   "outputs": [],
   "source": [
    "def find_threshold(classifier, test_data, test_labels):\n",
    "    y_proba_thresh = classifier.predict_proba(test_data)[::,1]\n",
    "    \n",
    "    fpr, tpr, thresholds = roc_curve(test_labels, y_proba_thresh)\n",
    "\n",
    "    y_proba = classifier.predict_proba(test_data)\n",
    "    y_pred = classifier.predict(test_data)\n",
    "\n",
    "    f1_scores = []\n",
    "\n",
    "    for threshold in thresholds:\n",
    "        y_pred = (y_proba[:, 1] > threshold).astype(int)\n",
    "        f1_scores.append(f1_score(test_labels, y_pred))\n",
    "\n",
    "    optimal_threshold = thresholds[np.argmax(f1_scores)]\n",
    "\n",
    "    print(f\"The optimum threshold is {optimal_threshold.round(3)} with an F1 score of {max(f1_scores).round(3)}\")\n",
    "    return optimal_threshold"
   ]
  },
  {
   "cell_type": "code",
   "execution_count": 9,
   "id": "a126da42-0136-452d-9a21-e15f863aa619",
   "metadata": {},
   "outputs": [],
   "source": [
    "def calculate_metrics(model_name, y_true, predictions):\n",
    "    \n",
    "    rscore = recall_score(y_true, predictions)\n",
    "    pscore = precision_score(y_true, predictions)\n",
    "    fscore = f1_score(y_true, predictions)\n",
    "    rascore = roc_auc_score(y_true, predictions)\n",
    "\n",
    "    results = [(rscore, pscore, fscore, rascore)]\n",
    "    classifier_metrics = pd.DataFrame(data = results, columns=['Recall','Precision','F1 Score', 'ROC-AUC Score'])\n",
    "    classifier_metrics.insert(0, 'Model', model_name)\n",
    "    print(classifier_metrics)\n",
    "    return classifier_metrics"
   ]
  },
  {
   "cell_type": "code",
   "execution_count": 11,
   "id": "e2760992-1cb9-4a7e-8e40-2b16be9ca263",
   "metadata": {},
   "outputs": [
    {
     "name": "stdout",
     "output_type": "stream",
     "text": [
      "(5625, 32)\n",
      "(1407, 32)\n",
      "(5625,)\n",
      "(1407,)\n"
     ]
    },
    {
     "data": {
      "text/plain": [
       "(None, None, None, None)"
      ]
     },
     "execution_count": 11,
     "metadata": {},
     "output_type": "execute_result"
    }
   ],
   "source": [
    "X_train, X_test, y_train, y_test = train_test_split(X, y, test_size=0.2, stratify = y, random_state=42)\n",
    "\n",
    "print(X_train.shape), print(X_test.shape), print(y_train.shape), print(y_test.shape)"
   ]
  },
  {
   "cell_type": "code",
   "execution_count": 12,
   "id": "9318ea67-7e48-45f3-a40a-32ab2191f97d",
   "metadata": {},
   "outputs": [
    {
     "name": "stdout",
     "output_type": "stream",
     "text": [
      "                      Model    Recall  Precision  F1 Score  ROC-AUC Score\n",
      "0  Random Forest Classifier  0.692513   0.737892  0.714483       0.801726\n"
     ]
    }
   ],
   "source": [
    "clf_rf = RandomForestClassifier(random_state = 42)\n",
    "\n",
    "clf_rf.fit(X_train, y_train)\n",
    "y_pred = clf_rf.predict(X_test)\n",
    "\n",
    "clf_rf_metrics = calculate_metrics('Random Forest Classifier', y_test, y_pred)"
   ]
  },
  {
   "cell_type": "code",
   "execution_count": 13,
   "id": "bbdf0b4d-099b-4ae6-8b1e-f3c6b620c8e5",
   "metadata": {},
   "outputs": [
    {
     "name": "stdout",
     "output_type": "stream",
     "text": [
      "The optimum threshold is 0.38 with an F1 score of 0.739\n"
     ]
    }
   ],
   "source": [
    "optimal_threshold = find_threshold(clf_rf, X_test, y_test)"
   ]
  },
  {
   "cell_type": "code",
   "execution_count": 14,
   "id": "299fd771-dd7a-400d-8ab5-c015a4a2c2ef",
   "metadata": {},
   "outputs": [
    {
     "name": "stdout",
     "output_type": "stream",
     "text": [
      "                                        Model    Recall  Precision  F1 Score  \\\n",
      "0  Optimal Threshold Random Forest Classifier  0.799465   0.687356  0.739184   \n",
      "\n",
      "   ROC-AUC Score  \n",
      "0       0.833905  \n"
     ]
    }
   ],
   "source": [
    "y_proba = clf_rf.predict_proba(X_test)\n",
    "y_pred = (y_proba[:, 1] > optimal_threshold).astype(int)\n",
    "\n",
    "clf_rf_thresh_metrics = calculate_metrics('Optimal Threshold Random Forest Classifier', y_test, y_pred)"
   ]
  },
  {
   "cell_type": "code",
   "execution_count": 18,
   "id": "69a3c4bf-e458-4276-bb1e-ab8767fb6f4b",
   "metadata": {},
   "outputs": [
    {
     "name": "stdout",
     "output_type": "stream",
     "text": [
      "{'max_depth': 9, 'min_samples_leaf': 1, 'n_estimators': 50}\n"
     ]
    }
   ],
   "source": [
    "grid = {'max_depth': [3, 5, 6, 9],\n",
    "        'min_samples_leaf': [1, 2, 4],\n",
    "        'n_estimators': [10, 25, 50, 100, 150]}\n",
    "\n",
    "clf_rf = RandomForestClassifier(random_state = 42)\n",
    "\n",
    "clf_rf_grid = GridSearchCV(clf_rf, grid, cv=8, scoring = 'f1', n_jobs = -1)\n",
    "clf_rf_grid.fit(X_train, y_train)\n",
    "\n",
    "best_params = clf_rf_grid.best_params_\n",
    "best_model = clf_rf_grid.best_estimator_\n",
    "\n",
    "print(best_params)"
   ]
  },
  {
   "cell_type": "code",
   "execution_count": 19,
   "id": "9b0d0ba4-acf9-4545-b78f-40883217bca8",
   "metadata": {},
   "outputs": [
    {
     "name": "stdout",
     "output_type": "stream",
     "text": [
      "                            Model    Recall  Precision  F1 Score  \\\n",
      "0  Tuned Random Forest Classifier  0.700535   0.748571  0.723757   \n",
      "\n",
      "   ROC-AUC Score  \n",
      "0       0.807673  \n"
     ]
    }
   ],
   "source": [
    "clf_rf_9_1_50 = RandomForestClassifier(max_depth = 9, min_samples_leaf = 1, n_estimators = 50, random_state = 42)\n",
    "\n",
    "clf_rf_9_1_50.fit(X_train, y_train)\n",
    "y_pred = clf_rf_9_1_50.predict(X_test)\n",
    "\n",
    "clf_rf_9_1_50_metrics = calculate_metrics('Tuned Random Forest Classifier', y_test, y_pred)"
   ]
  },
  {
   "cell_type": "code",
   "execution_count": 20,
   "id": "e9609cd8-b846-4194-bdf7-9aece5af76e3",
   "metadata": {},
   "outputs": [
    {
     "name": "stdout",
     "output_type": "stream",
     "text": [
      "The optimum threshold is 0.318 with an F1 score of 0.744\n"
     ]
    }
   ],
   "source": [
    "optimal_threshold = find_threshold(clf_rf_9_1_50, X_test, y_test)"
   ]
  },
  {
   "cell_type": "code",
   "execution_count": 21,
   "id": "fc78ac7e-b7cc-4962-875e-fadafb5532ec",
   "metadata": {},
   "outputs": [
    {
     "name": "stdout",
     "output_type": "stream",
     "text": [
      "                                      Model    Recall  Precision  F1 Score  \\\n",
      "0  Tuned Threshold Random Forest Classifier  0.879679   0.645098  0.744344   \n",
      "\n",
      "   ROC-AUC Score  \n",
      "0       0.852231  \n"
     ]
    }
   ],
   "source": [
    "y_proba = clf_rf_9_1_50.predict_proba(X_test)\n",
    "y_pred = (y_proba[:, 1] > optimal_threshold).astype(int)\n",
    "\n",
    "clf_rf_9_1_50_thresh_metrics = calculate_metrics('Tuned Threshold Random Forest Classifier', y_test, y_pred)"
   ]
  },
  {
   "cell_type": "code",
   "execution_count": 22,
   "id": "a990525a-1bdf-4ca6-b9aa-6dc760a5692c",
   "metadata": {},
   "outputs": [
    {
     "data": {
      "text/html": [
       "<div>\n",
       "<style scoped>\n",
       "    .dataframe tbody tr th:only-of-type {\n",
       "        vertical-align: middle;\n",
       "    }\n",
       "\n",
       "    .dataframe tbody tr th {\n",
       "        vertical-align: top;\n",
       "    }\n",
       "\n",
       "    .dataframe thead th {\n",
       "        text-align: right;\n",
       "    }\n",
       "</style>\n",
       "<table border=\"1\" class=\"dataframe\">\n",
       "  <thead>\n",
       "    <tr style=\"text-align: right;\">\n",
       "      <th></th>\n",
       "      <th>Model</th>\n",
       "      <th>Recall</th>\n",
       "      <th>Precision</th>\n",
       "      <th>F1 Score</th>\n",
       "      <th>ROC-AUC Score</th>\n",
       "    </tr>\n",
       "  </thead>\n",
       "  <tbody>\n",
       "    <tr>\n",
       "      <th>0</th>\n",
       "      <td>Random Forest Classifier</td>\n",
       "      <td>0.692513</td>\n",
       "      <td>0.737892</td>\n",
       "      <td>0.714483</td>\n",
       "      <td>0.801726</td>\n",
       "    </tr>\n",
       "    <tr>\n",
       "      <th>0</th>\n",
       "      <td>Optimal Threshold Random Forest Classifier</td>\n",
       "      <td>0.799465</td>\n",
       "      <td>0.687356</td>\n",
       "      <td>0.739184</td>\n",
       "      <td>0.833905</td>\n",
       "    </tr>\n",
       "    <tr>\n",
       "      <th>0</th>\n",
       "      <td>Tuned Random Forest Classifier</td>\n",
       "      <td>0.700535</td>\n",
       "      <td>0.748571</td>\n",
       "      <td>0.723757</td>\n",
       "      <td>0.807673</td>\n",
       "    </tr>\n",
       "    <tr>\n",
       "      <th>0</th>\n",
       "      <td>Tuned Threshold Random Forest Classifier</td>\n",
       "      <td>0.879679</td>\n",
       "      <td>0.645098</td>\n",
       "      <td>0.744344</td>\n",
       "      <td>0.852231</td>\n",
       "    </tr>\n",
       "  </tbody>\n",
       "</table>\n",
       "</div>"
      ],
      "text/plain": [
       "                                        Model    Recall  Precision  F1 Score  \\\n",
       "0                    Random Forest Classifier  0.692513   0.737892  0.714483   \n",
       "0  Optimal Threshold Random Forest Classifier  0.799465   0.687356  0.739184   \n",
       "0              Tuned Random Forest Classifier  0.700535   0.748571  0.723757   \n",
       "0    Tuned Threshold Random Forest Classifier  0.879679   0.645098  0.744344   \n",
       "\n",
       "   ROC-AUC Score  \n",
       "0       0.801726  \n",
       "0       0.833905  \n",
       "0       0.807673  \n",
       "0       0.852231  "
      ]
     },
     "execution_count": 22,
     "metadata": {},
     "output_type": "execute_result"
    }
   ],
   "source": [
    "rf = pd.concat([clf_rf_metrics, clf_rf_thresh_metrics, clf_rf_9_1_50_metrics, clf_rf_9_1_50_thresh_metrics])\n",
    "rf"
   ]
  },
  {
   "cell_type": "code",
   "execution_count": 23,
   "id": "98a7d17f-e4a3-4cd2-be14-f76db69ea3ab",
   "metadata": {},
   "outputs": [
    {
     "name": "stdout",
     "output_type": "stream",
     "text": [
      "                          Model    Recall  Precision  F1 Score  ROC-AUC Score\n",
      "0  Gradient Boosting Classifier  0.695187   0.738636  0.716253       0.803063\n"
     ]
    }
   ],
   "source": [
    "clf_gb = GradientBoostingClassifier(random_state = 42)\n",
    "\n",
    "clf_gb.fit(X_train, y_train)\n",
    "y_pred = clf_gb.predict(X_test)\n",
    "\n",
    "clf_gb_metrics = calculate_metrics('Gradient Boosting Classifier', y_test, y_pred)"
   ]
  },
  {
   "cell_type": "code",
   "execution_count": 24,
   "id": "ce511d71-4da8-44e7-ab9c-191102bb022c",
   "metadata": {},
   "outputs": [
    {
     "name": "stdout",
     "output_type": "stream",
     "text": [
      "The optimum threshold is 0.273 with an F1 score of 0.736\n"
     ]
    }
   ],
   "source": [
    "optimal_threshold = find_threshold(clf_gb, X_test, y_test)"
   ]
  },
  {
   "cell_type": "code",
   "execution_count": 25,
   "id": "7c0ded76-c24c-4ecc-a1c6-0a15711313e1",
   "metadata": {},
   "outputs": [
    {
     "name": "stdout",
     "output_type": "stream",
     "text": [
      "                                            Model    Recall  Precision  \\\n",
      "0  Optimal Threshold Gradient Boosting Classifier  0.871658   0.636719   \n",
      "\n",
      "   F1 Score  ROC-AUC Score  \n",
      "0  0.735892         0.8458  \n"
     ]
    }
   ],
   "source": [
    "y_proba = clf_gb.predict_proba(X_test)\n",
    "y_pred = (y_proba[:, 1] > optimal_threshold).astype(int)\n",
    "\n",
    "clf_gb_thresh_metrics = calculate_metrics('Optimal Threshold Gradient Boosting Classifier', y_test, y_pred)"
   ]
  },
  {
   "cell_type": "code",
   "execution_count": 26,
   "id": "caa15dd8-81d4-4152-bb7c-6da37e951625",
   "metadata": {},
   "outputs": [
    {
     "name": "stdout",
     "output_type": "stream",
     "text": [
      "{'learning_rate': 0.05, 'max_depth': 5, 'max_features': 'sqrt', 'min_samples_leaf': 2, 'n_estimators': 150}\n"
     ]
    }
   ],
   "source": [
    "grid = {'learning_rate': [1, 0.5, 0.25, 0.1, 0.05, 0.01, 0.001],\n",
    "        'n_estimators': [10, 25, 50, 100, 150],\n",
    "        'max_depth': [3, 5, 6, 9],\n",
    "        'min_samples_leaf': [1, 2, 3, 4],\n",
    "        'max_features':['auto', 'sqrt', 'log2']}\n",
    "\n",
    "clf_gb = GradientBoostingClassifier(random_state = 42)\n",
    "\n",
    "clf_gb_grid = GridSearchCV(clf_gb, grid, cv=8, scoring = 'f1', n_jobs = -1)\n",
    "clf_gb_grid.fit(X_train, y_train)\n",
    "\n",
    "best_params = clf_gb_grid.best_params_\n",
    "best_model = clf_gb_grid.best_estimator_\n",
    "\n",
    "print(best_params)"
   ]
  },
  {
   "cell_type": "code",
   "execution_count": 27,
   "id": "f558f62f-69be-4f82-a8aa-bc0378aa13b3",
   "metadata": {},
   "outputs": [
    {
     "name": "stdout",
     "output_type": "stream",
     "text": [
      "                                Model    Recall  Precision  F1 Score  \\\n",
      "0  Tuned Gradient Boosting Classifier  0.695187   0.734463  0.714286   \n",
      "\n",
      "   ROC-AUC Score  \n",
      "0       0.802095  \n"
     ]
    }
   ],
   "source": [
    "clf_gb_gs = GradientBoostingClassifier(learning_rate = 0.05, max_depth = 5, max_features = 'sqrt',\n",
    "                                    min_samples_leaf = 2, n_estimators = 150, random_state = 42)\n",
    "\n",
    "clf_gb_gs.fit(X_train, y_train)\n",
    "y_pred = clf_gb_gs.predict(X_test)\n",
    "\n",
    "clf_gb_gs_metrics = calculate_metrics('Tuned Gradient Boosting Classifier', y_test, y_pred)"
   ]
  },
  {
   "cell_type": "code",
   "execution_count": 28,
   "id": "33a67459-55b6-4883-9f04-b2298ab03f40",
   "metadata": {},
   "outputs": [
    {
     "name": "stdout",
     "output_type": "stream",
     "text": [
      "The optimum threshold is 0.234 with an F1 score of 0.742\n"
     ]
    }
   ],
   "source": [
    "optimal_threshold = find_threshold(clf_gb_gs, X_test, y_test)"
   ]
  },
  {
   "cell_type": "code",
   "execution_count": 29,
   "id": "a08f67f7-d609-4176-8a34-e22528f81141",
   "metadata": {},
   "outputs": [
    {
     "name": "stdout",
     "output_type": "stream",
     "text": [
      "                                          Model    Recall  Precision  \\\n",
      "0  Tuned Threshold Gradient Boosting Classifier  0.919786   0.622061   \n",
      "\n",
      "   F1 Score  ROC-AUC Score  \n",
      "0  0.742179       0.858731  \n"
     ]
    }
   ],
   "source": [
    "y_proba = clf_gb_gs.predict_proba(X_test)\n",
    "y_pred = (y_proba[:, 1] > optimal_threshold).astype(int)\n",
    "\n",
    "clf_gb_gs_thresh_metrics = calculate_metrics('Tuned Threshold Gradient Boosting Classifier', y_test, y_pred)"
   ]
  },
  {
   "cell_type": "code",
   "execution_count": 30,
   "id": "7c8de259-5e7c-431e-80bd-1213dbe31ce3",
   "metadata": {},
   "outputs": [
    {
     "data": {
      "text/html": [
       "<div>\n",
       "<style scoped>\n",
       "    .dataframe tbody tr th:only-of-type {\n",
       "        vertical-align: middle;\n",
       "    }\n",
       "\n",
       "    .dataframe tbody tr th {\n",
       "        vertical-align: top;\n",
       "    }\n",
       "\n",
       "    .dataframe thead th {\n",
       "        text-align: right;\n",
       "    }\n",
       "</style>\n",
       "<table border=\"1\" class=\"dataframe\">\n",
       "  <thead>\n",
       "    <tr style=\"text-align: right;\">\n",
       "      <th></th>\n",
       "      <th>Model</th>\n",
       "      <th>Recall</th>\n",
       "      <th>Precision</th>\n",
       "      <th>F1 Score</th>\n",
       "      <th>ROC-AUC Score</th>\n",
       "    </tr>\n",
       "  </thead>\n",
       "  <tbody>\n",
       "    <tr>\n",
       "      <th>0</th>\n",
       "      <td>Gradient Boosting Classifier</td>\n",
       "      <td>0.695187</td>\n",
       "      <td>0.738636</td>\n",
       "      <td>0.716253</td>\n",
       "      <td>0.803063</td>\n",
       "    </tr>\n",
       "    <tr>\n",
       "      <th>0</th>\n",
       "      <td>Optimal Threshold Gradient Boosting Classifier</td>\n",
       "      <td>0.871658</td>\n",
       "      <td>0.636719</td>\n",
       "      <td>0.735892</td>\n",
       "      <td>0.845800</td>\n",
       "    </tr>\n",
       "    <tr>\n",
       "      <th>0</th>\n",
       "      <td>Tuned Gradient Boosting Classifier</td>\n",
       "      <td>0.695187</td>\n",
       "      <td>0.734463</td>\n",
       "      <td>0.714286</td>\n",
       "      <td>0.802095</td>\n",
       "    </tr>\n",
       "    <tr>\n",
       "      <th>0</th>\n",
       "      <td>Tuned Threshold Gradient Boosting Classifier</td>\n",
       "      <td>0.919786</td>\n",
       "      <td>0.622061</td>\n",
       "      <td>0.742179</td>\n",
       "      <td>0.858731</td>\n",
       "    </tr>\n",
       "  </tbody>\n",
       "</table>\n",
       "</div>"
      ],
      "text/plain": [
       "                                            Model    Recall  Precision  \\\n",
       "0                    Gradient Boosting Classifier  0.695187   0.738636   \n",
       "0  Optimal Threshold Gradient Boosting Classifier  0.871658   0.636719   \n",
       "0              Tuned Gradient Boosting Classifier  0.695187   0.734463   \n",
       "0    Tuned Threshold Gradient Boosting Classifier  0.919786   0.622061   \n",
       "\n",
       "   F1 Score  ROC-AUC Score  \n",
       "0  0.716253       0.803063  \n",
       "0  0.735892       0.845800  \n",
       "0  0.714286       0.802095  \n",
       "0  0.742179       0.858731  "
      ]
     },
     "execution_count": 30,
     "metadata": {},
     "output_type": "execute_result"
    }
   ],
   "source": [
    "gb = pd.concat([clf_gb_metrics, clf_gb_thresh_metrics, clf_gb_gs_metrics, clf_gb_gs_thresh_metrics])\n",
    "gb"
   ]
  },
  {
   "cell_type": "code",
   "execution_count": 35,
   "id": "bfa35ca2-8b0b-4590-98b3-c19fdc5efe67",
   "metadata": {},
   "outputs": [
    {
     "data": {
      "text/html": [
       "<div>\n",
       "<style scoped>\n",
       "    .dataframe tbody tr th:only-of-type {\n",
       "        vertical-align: middle;\n",
       "    }\n",
       "\n",
       "    .dataframe tbody tr th {\n",
       "        vertical-align: top;\n",
       "    }\n",
       "\n",
       "    .dataframe thead th {\n",
       "        text-align: right;\n",
       "    }\n",
       "</style>\n",
       "<table border=\"1\" class=\"dataframe\">\n",
       "  <thead>\n",
       "    <tr style=\"text-align: right;\">\n",
       "      <th></th>\n",
       "      <th>Model</th>\n",
       "      <th>Recall</th>\n",
       "      <th>Precision</th>\n",
       "      <th>F1 Score</th>\n",
       "      <th>ROC-AUC Score</th>\n",
       "    </tr>\n",
       "  </thead>\n",
       "  <tbody>\n",
       "    <tr>\n",
       "      <th>0</th>\n",
       "      <td>Tuned Threshold Random Forest Classifier</td>\n",
       "      <td>0.879679</td>\n",
       "      <td>0.645098</td>\n",
       "      <td>0.744344</td>\n",
       "      <td>0.852231</td>\n",
       "    </tr>\n",
       "    <tr>\n",
       "      <th>0</th>\n",
       "      <td>Tuned Threshold Gradient Boosting Classifier</td>\n",
       "      <td>0.919786</td>\n",
       "      <td>0.622061</td>\n",
       "      <td>0.742179</td>\n",
       "      <td>0.858731</td>\n",
       "    </tr>\n",
       "    <tr>\n",
       "      <th>0</th>\n",
       "      <td>Optimal Threshold Random Forest Classifier</td>\n",
       "      <td>0.799465</td>\n",
       "      <td>0.687356</td>\n",
       "      <td>0.739184</td>\n",
       "      <td>0.833905</td>\n",
       "    </tr>\n",
       "    <tr>\n",
       "      <th>0</th>\n",
       "      <td>Optimal Threshold Gradient Boosting Classifier</td>\n",
       "      <td>0.871658</td>\n",
       "      <td>0.636719</td>\n",
       "      <td>0.735892</td>\n",
       "      <td>0.845800</td>\n",
       "    </tr>\n",
       "    <tr>\n",
       "      <th>0</th>\n",
       "      <td>Tuned Random Forest Classifier</td>\n",
       "      <td>0.700535</td>\n",
       "      <td>0.748571</td>\n",
       "      <td>0.723757</td>\n",
       "      <td>0.807673</td>\n",
       "    </tr>\n",
       "    <tr>\n",
       "      <th>0</th>\n",
       "      <td>Gradient Boosting Classifier</td>\n",
       "      <td>0.695187</td>\n",
       "      <td>0.738636</td>\n",
       "      <td>0.716253</td>\n",
       "      <td>0.803063</td>\n",
       "    </tr>\n",
       "    <tr>\n",
       "      <th>0</th>\n",
       "      <td>Random Forest Classifier</td>\n",
       "      <td>0.692513</td>\n",
       "      <td>0.737892</td>\n",
       "      <td>0.714483</td>\n",
       "      <td>0.801726</td>\n",
       "    </tr>\n",
       "    <tr>\n",
       "      <th>0</th>\n",
       "      <td>Tuned Gradient Boosting Classifier</td>\n",
       "      <td>0.695187</td>\n",
       "      <td>0.734463</td>\n",
       "      <td>0.714286</td>\n",
       "      <td>0.802095</td>\n",
       "    </tr>\n",
       "  </tbody>\n",
       "</table>\n",
       "</div>"
      ],
      "text/plain": [
       "                                            Model    Recall  Precision  \\\n",
       "0        Tuned Threshold Random Forest Classifier  0.879679   0.645098   \n",
       "0    Tuned Threshold Gradient Boosting Classifier  0.919786   0.622061   \n",
       "0      Optimal Threshold Random Forest Classifier  0.799465   0.687356   \n",
       "0  Optimal Threshold Gradient Boosting Classifier  0.871658   0.636719   \n",
       "0                  Tuned Random Forest Classifier  0.700535   0.748571   \n",
       "0                    Gradient Boosting Classifier  0.695187   0.738636   \n",
       "0                        Random Forest Classifier  0.692513   0.737892   \n",
       "0              Tuned Gradient Boosting Classifier  0.695187   0.734463   \n",
       "\n",
       "   F1 Score  ROC-AUC Score  \n",
       "0  0.744344       0.852231  \n",
       "0  0.742179       0.858731  \n",
       "0  0.739184       0.833905  \n",
       "0  0.735892       0.845800  \n",
       "0  0.723757       0.807673  \n",
       "0  0.716253       0.803063  \n",
       "0  0.714483       0.801726  \n",
       "0  0.714286       0.802095  "
      ]
     },
     "execution_count": 35,
     "metadata": {},
     "output_type": "execute_result"
    }
   ],
   "source": [
    "rf_gb = pd.concat([rf, gb])\n",
    "rf_gb.sort_values('F1 Score', ascending =  False)"
   ]
  },
  {
   "cell_type": "code",
   "execution_count": 36,
   "id": "81eae317-b574-4438-829b-7d1de864f598",
   "metadata": {},
   "outputs": [
    {
     "name": "stdout",
     "output_type": "stream",
     "text": [
      "            Model    Recall  Precision  F1 Score  ROC-AUC Score\n",
      "0  XGB Classifier  0.681818   0.708333  0.694823       0.790086\n"
     ]
    }
   ],
   "source": [
    "clf_xgb = xgb.XGBClassifier(random_state = 42)\n",
    "\n",
    "clf_xgb.fit(X_train, y_train)\n",
    "y_pred = clf_xgb.predict(X_test)\n",
    "\n",
    "clf_xgb_metrics = calculate_metrics('XGB Classifier', y_test, y_pred)"
   ]
  },
  {
   "cell_type": "code",
   "execution_count": 37,
   "id": "b5e1c2b2-0170-42b3-84b5-9eca28dcae90",
   "metadata": {},
   "outputs": [
    {
     "name": "stdout",
     "output_type": "stream",
     "text": [
      "The optimum threshold is 0.3050000071525574 with an F1 score of 0.715\n"
     ]
    }
   ],
   "source": [
    "optimal_threshold = find_threshold(clf_xgb, X_test, y_test)"
   ]
  },
  {
   "cell_type": "code",
   "execution_count": 38,
   "id": "a01ca8d5-992d-459a-9e4b-66094d9a063a",
   "metadata": {},
   "outputs": [
    {
     "name": "stdout",
     "output_type": "stream",
     "text": [
      "                              Model    Recall  Precision  F1 Score  \\\n",
      "0  Optimal Threshold XGB Classifier  0.802139   0.645161  0.715137   \n",
      "\n",
      "   ROC-AUC Score  \n",
      "0       0.821205  \n"
     ]
    }
   ],
   "source": [
    "y_proba = clf_xgb.predict_proba(X_test)\n",
    "y_pred = (y_proba[:, 1] > optimal_threshold).astype(int)\n",
    "\n",
    "clf_xgb_thresh_metrics = calculate_metrics('Optimal Threshold XGB Classifier', y_test, y_pred)"
   ]
  },
  {
   "cell_type": "code",
   "execution_count": 70,
   "id": "15c1f077-75fb-40e0-8079-ad318ad594ca",
   "metadata": {},
   "outputs": [
    {
     "name": "stdout",
     "output_type": "stream",
     "text": [
      "{'lambda': 0.05, 'learning_rate': 0.25, 'max_depth': 3, 'n_estimators': 50}\n"
     ]
    }
   ],
   "source": [
    "grid = {'n_estimators': [10, 25, 50, 100, 150],\n",
    "              'max_depth': [3, 5, 7, 9],\n",
    "              'learning_rate': [1, 0.5, 0.25, 0.1, 0.05, 0.01, 0.001],\n",
    "              'lambda': [1, 0.5, 0.25, 0.1, 0.05, 0.01, 0.001]}\n",
    "\n",
    "clf_xgb = xgb.XGBClassifier(random_state = 42)\n",
    "\n",
    "clf_xgb_grid = GridSearchCV(clf_xgb, grid, cv=8, scoring = 'f1', n_jobs = -1)\n",
    "clf_xgb_grid.fit(X_train, y_train)\n",
    "\n",
    "best_params = clf_xgb_grid.best_params_\n",
    "best_model = clf_xgb_grid.best_estimator_\n",
    "\n",
    "print(best_params)"
   ]
  },
  {
   "cell_type": "code",
   "execution_count": 73,
   "id": "d736f664-fa6d-42df-8b54-f87b77d74f4e",
   "metadata": {},
   "outputs": [
    {
     "name": "stdout",
     "output_type": "stream",
     "text": [
      "                  Model    Recall  Precision  F1 Score  ROC-AUC Score\n",
      "0  Tuned XGB Classifier  0.705882   0.741573  0.723288       0.808411\n"
     ]
    }
   ],
   "source": [
    "clf_xgb_gs = xgb.XGBClassifier(reg_lambda = 0.05, learning_rate = 0.25, max_depth = 3, n_estimators = 50,\n",
    "                               random_state = 42)\n",
    "\n",
    "clf_xgb_gs.fit(X_train, y_train)\n",
    "y_pred = clf_xgb_gs.predict(X_test)\n",
    "\n",
    "clf_xgb_gs_metrics = calculate_metrics('Tuned XGB Classifier', y_test, y_pred)"
   ]
  },
  {
   "cell_type": "code",
   "execution_count": 74,
   "id": "e54b80bb-8a46-4c61-930b-baac108bef27",
   "metadata": {},
   "outputs": [
    {
     "name": "stdout",
     "output_type": "stream",
     "text": [
      "The optimum threshold is 0.25 with an F1 score of 0.733\n"
     ]
    }
   ],
   "source": [
    "optimal_threshold = find_threshold(clf_xgb_gs, X_test, y_test)"
   ]
  },
  {
   "cell_type": "code",
   "execution_count": 75,
   "id": "324241ae-a429-415b-a2f3-299d66197ec6",
   "metadata": {},
   "outputs": [
    {
     "name": "stdout",
     "output_type": "stream",
     "text": [
      "                            Model    Recall  Precision  F1 Score  \\\n",
      "0  Tuned Threshold XGB Classifier  0.898396   0.618785  0.732824   \n",
      "\n",
      "   ROC-AUC Score  \n",
      "0       0.849004  \n"
     ]
    }
   ],
   "source": [
    "y_proba = clf_xgb_gs.predict_proba(X_test)\n",
    "y_pred = (y_proba[:, 1] > optimal_threshold).astype(int)\n",
    "\n",
    "clf_xgb_gs_thresh_metrics = calculate_metrics('Tuned Threshold XGB Classifier', y_test, y_pred)"
   ]
  },
  {
   "cell_type": "code",
   "execution_count": 76,
   "id": "fcdd2ae8-fad5-421f-896e-4cb619dd31d5",
   "metadata": {},
   "outputs": [
    {
     "data": {
      "text/html": [
       "<div>\n",
       "<style scoped>\n",
       "    .dataframe tbody tr th:only-of-type {\n",
       "        vertical-align: middle;\n",
       "    }\n",
       "\n",
       "    .dataframe tbody tr th {\n",
       "        vertical-align: top;\n",
       "    }\n",
       "\n",
       "    .dataframe thead th {\n",
       "        text-align: right;\n",
       "    }\n",
       "</style>\n",
       "<table border=\"1\" class=\"dataframe\">\n",
       "  <thead>\n",
       "    <tr style=\"text-align: right;\">\n",
       "      <th></th>\n",
       "      <th>Model</th>\n",
       "      <th>Recall</th>\n",
       "      <th>Precision</th>\n",
       "      <th>F1 Score</th>\n",
       "      <th>ROC-AUC Score</th>\n",
       "    </tr>\n",
       "  </thead>\n",
       "  <tbody>\n",
       "    <tr>\n",
       "      <th>0</th>\n",
       "      <td>XGB Classifier</td>\n",
       "      <td>0.681818</td>\n",
       "      <td>0.708333</td>\n",
       "      <td>0.694823</td>\n",
       "      <td>0.790086</td>\n",
       "    </tr>\n",
       "    <tr>\n",
       "      <th>0</th>\n",
       "      <td>Optimal Threshold XGB Classifier</td>\n",
       "      <td>0.802139</td>\n",
       "      <td>0.645161</td>\n",
       "      <td>0.715137</td>\n",
       "      <td>0.821205</td>\n",
       "    </tr>\n",
       "    <tr>\n",
       "      <th>0</th>\n",
       "      <td>Tuned XGB Classifier</td>\n",
       "      <td>0.705882</td>\n",
       "      <td>0.741573</td>\n",
       "      <td>0.723288</td>\n",
       "      <td>0.808411</td>\n",
       "    </tr>\n",
       "    <tr>\n",
       "      <th>0</th>\n",
       "      <td>Tuned Threshold XGB Classifier</td>\n",
       "      <td>0.898396</td>\n",
       "      <td>0.618785</td>\n",
       "      <td>0.732824</td>\n",
       "      <td>0.849004</td>\n",
       "    </tr>\n",
       "  </tbody>\n",
       "</table>\n",
       "</div>"
      ],
      "text/plain": [
       "                              Model    Recall  Precision  F1 Score  \\\n",
       "0                    XGB Classifier  0.681818   0.708333  0.694823   \n",
       "0  Optimal Threshold XGB Classifier  0.802139   0.645161  0.715137   \n",
       "0              Tuned XGB Classifier  0.705882   0.741573  0.723288   \n",
       "0    Tuned Threshold XGB Classifier  0.898396   0.618785  0.732824   \n",
       "\n",
       "   ROC-AUC Score  \n",
       "0       0.790086  \n",
       "0       0.821205  \n",
       "0       0.808411  \n",
       "0       0.849004  "
      ]
     },
     "execution_count": 76,
     "metadata": {},
     "output_type": "execute_result"
    }
   ],
   "source": [
    "xgboo = pd.concat([clf_xgb_metrics, clf_xgb_thresh_metrics, clf_xgb_gs_metrics, clf_xgb_gs_thresh_metrics])\n",
    "xgboo"
   ]
  },
  {
   "cell_type": "code",
   "execution_count": 78,
   "id": "0a5650ab-8a2f-4ee5-aeb1-89b561bf7f71",
   "metadata": {},
   "outputs": [
    {
     "data": {
      "text/html": [
       "<div>\n",
       "<style scoped>\n",
       "    .dataframe tbody tr th:only-of-type {\n",
       "        vertical-align: middle;\n",
       "    }\n",
       "\n",
       "    .dataframe tbody tr th {\n",
       "        vertical-align: top;\n",
       "    }\n",
       "\n",
       "    .dataframe thead th {\n",
       "        text-align: right;\n",
       "    }\n",
       "</style>\n",
       "<table border=\"1\" class=\"dataframe\">\n",
       "  <thead>\n",
       "    <tr style=\"text-align: right;\">\n",
       "      <th></th>\n",
       "      <th>Model</th>\n",
       "      <th>Recall</th>\n",
       "      <th>Precision</th>\n",
       "      <th>F1 Score</th>\n",
       "      <th>ROC-AUC Score</th>\n",
       "    </tr>\n",
       "  </thead>\n",
       "  <tbody>\n",
       "    <tr>\n",
       "      <th>0</th>\n",
       "      <td>Tuned Threshold Random Forest Classifier</td>\n",
       "      <td>0.879679</td>\n",
       "      <td>0.645098</td>\n",
       "      <td>0.744344</td>\n",
       "      <td>0.852231</td>\n",
       "    </tr>\n",
       "    <tr>\n",
       "      <th>0</th>\n",
       "      <td>Tuned Threshold Gradient Boosting Classifier</td>\n",
       "      <td>0.919786</td>\n",
       "      <td>0.622061</td>\n",
       "      <td>0.742179</td>\n",
       "      <td>0.858731</td>\n",
       "    </tr>\n",
       "    <tr>\n",
       "      <th>0</th>\n",
       "      <td>Optimal Threshold Random Forest Classifier</td>\n",
       "      <td>0.799465</td>\n",
       "      <td>0.687356</td>\n",
       "      <td>0.739184</td>\n",
       "      <td>0.833905</td>\n",
       "    </tr>\n",
       "    <tr>\n",
       "      <th>0</th>\n",
       "      <td>Optimal Threshold Gradient Boosting Classifier</td>\n",
       "      <td>0.871658</td>\n",
       "      <td>0.636719</td>\n",
       "      <td>0.735892</td>\n",
       "      <td>0.845800</td>\n",
       "    </tr>\n",
       "    <tr>\n",
       "      <th>0</th>\n",
       "      <td>Tuned Threshold XGB Classifier</td>\n",
       "      <td>0.898396</td>\n",
       "      <td>0.618785</td>\n",
       "      <td>0.732824</td>\n",
       "      <td>0.849004</td>\n",
       "    </tr>\n",
       "    <tr>\n",
       "      <th>0</th>\n",
       "      <td>Tuned Random Forest Classifier</td>\n",
       "      <td>0.700535</td>\n",
       "      <td>0.748571</td>\n",
       "      <td>0.723757</td>\n",
       "      <td>0.807673</td>\n",
       "    </tr>\n",
       "    <tr>\n",
       "      <th>0</th>\n",
       "      <td>Tuned XGB Classifier</td>\n",
       "      <td>0.705882</td>\n",
       "      <td>0.741573</td>\n",
       "      <td>0.723288</td>\n",
       "      <td>0.808411</td>\n",
       "    </tr>\n",
       "    <tr>\n",
       "      <th>0</th>\n",
       "      <td>Gradient Boosting Classifier</td>\n",
       "      <td>0.695187</td>\n",
       "      <td>0.738636</td>\n",
       "      <td>0.716253</td>\n",
       "      <td>0.803063</td>\n",
       "    </tr>\n",
       "    <tr>\n",
       "      <th>0</th>\n",
       "      <td>Optimal Threshold XGB Classifier</td>\n",
       "      <td>0.802139</td>\n",
       "      <td>0.645161</td>\n",
       "      <td>0.715137</td>\n",
       "      <td>0.821205</td>\n",
       "    </tr>\n",
       "    <tr>\n",
       "      <th>0</th>\n",
       "      <td>Random Forest Classifier</td>\n",
       "      <td>0.692513</td>\n",
       "      <td>0.737892</td>\n",
       "      <td>0.714483</td>\n",
       "      <td>0.801726</td>\n",
       "    </tr>\n",
       "    <tr>\n",
       "      <th>0</th>\n",
       "      <td>Tuned Gradient Boosting Classifier</td>\n",
       "      <td>0.695187</td>\n",
       "      <td>0.734463</td>\n",
       "      <td>0.714286</td>\n",
       "      <td>0.802095</td>\n",
       "    </tr>\n",
       "    <tr>\n",
       "      <th>0</th>\n",
       "      <td>XGB Classifier</td>\n",
       "      <td>0.681818</td>\n",
       "      <td>0.708333</td>\n",
       "      <td>0.694823</td>\n",
       "      <td>0.790086</td>\n",
       "    </tr>\n",
       "  </tbody>\n",
       "</table>\n",
       "</div>"
      ],
      "text/plain": [
       "                                            Model    Recall  Precision  \\\n",
       "0        Tuned Threshold Random Forest Classifier  0.879679   0.645098   \n",
       "0    Tuned Threshold Gradient Boosting Classifier  0.919786   0.622061   \n",
       "0      Optimal Threshold Random Forest Classifier  0.799465   0.687356   \n",
       "0  Optimal Threshold Gradient Boosting Classifier  0.871658   0.636719   \n",
       "0                  Tuned Threshold XGB Classifier  0.898396   0.618785   \n",
       "0                  Tuned Random Forest Classifier  0.700535   0.748571   \n",
       "0                            Tuned XGB Classifier  0.705882   0.741573   \n",
       "0                    Gradient Boosting Classifier  0.695187   0.738636   \n",
       "0                Optimal Threshold XGB Classifier  0.802139   0.645161   \n",
       "0                        Random Forest Classifier  0.692513   0.737892   \n",
       "0              Tuned Gradient Boosting Classifier  0.695187   0.734463   \n",
       "0                                  XGB Classifier  0.681818   0.708333   \n",
       "\n",
       "   F1 Score  ROC-AUC Score  \n",
       "0  0.744344       0.852231  \n",
       "0  0.742179       0.858731  \n",
       "0  0.739184       0.833905  \n",
       "0  0.735892       0.845800  \n",
       "0  0.732824       0.849004  \n",
       "0  0.723757       0.807673  \n",
       "0  0.723288       0.808411  \n",
       "0  0.716253       0.803063  \n",
       "0  0.715137       0.821205  \n",
       "0  0.714483       0.801726  \n",
       "0  0.714286       0.802095  \n",
       "0  0.694823       0.790086  "
      ]
     },
     "execution_count": 78,
     "metadata": {},
     "output_type": "execute_result"
    }
   ],
   "source": [
    "rf_gb_xgboo = pd.concat([rf, gb, xgboo])\n",
    "rf_gb_xgboo.sort_values('F1 Score', ascending =  False)"
   ]
  },
  {
   "cell_type": "code",
   "execution_count": 79,
   "id": "2d4f46fc-cea3-4fb3-9fb9-db20424541b4",
   "metadata": {},
   "outputs": [
    {
     "name": "stdout",
     "output_type": "stream",
     "text": [
      "                 Model   Recall  Precision  F1 Score  ROC-AUC Score\n",
      "0  AdaBoost Classifier  0.71123   0.732782  0.721845       0.808664\n"
     ]
    }
   ],
   "source": [
    "clf_ada = AdaBoostClassifier(random_state = 42)\n",
    "\n",
    "clf_ada.fit(X_train, y_train)\n",
    "y_pred = clf_ada.predict(X_test)\n",
    "\n",
    "clf_ada_metrics = calculate_metrics('AdaBoost Classifier', y_test, y_pred)"
   ]
  },
  {
   "cell_type": "code",
   "execution_count": 80,
   "id": "3a582929-cf2a-4e3f-93b4-10af851a5ae3",
   "metadata": {},
   "outputs": [
    {
     "name": "stdout",
     "output_type": "stream",
     "text": [
      "The optimum threshold is 0.497 with an F1 score of 0.738\n"
     ]
    }
   ],
   "source": [
    "optimal_threshold = find_threshold(clf_ada, X_test, y_test)"
   ]
  },
  {
   "cell_type": "code",
   "execution_count": 81,
   "id": "1669dfc1-34c9-4417-89ec-63517401697d",
   "metadata": {},
   "outputs": [
    {
     "name": "stdout",
     "output_type": "stream",
     "text": [
      "                                   Model    Recall  Precision  F1 Score  \\\n",
      "0  Optimal Threshold AdaBoost Classifier  0.815508   0.674779  0.738499   \n",
      "\n",
      "   ROC-AUC Score  \n",
      "0       0.836602  \n"
     ]
    }
   ],
   "source": [
    "y_proba = clf_ada.predict_proba(X_test)\n",
    "y_pred = (y_proba[:, 1] > optimal_threshold).astype(int)\n",
    "\n",
    "clf_ada_thresh_metrics = calculate_metrics('Optimal Threshold AdaBoost Classifier', y_test, y_pred)"
   ]
  },
  {
   "cell_type": "code",
   "execution_count": 82,
   "id": "52d71143-38de-4b92-8ca4-c7f9e1d3d736",
   "metadata": {},
   "outputs": [
    {
     "name": "stdout",
     "output_type": "stream",
     "text": [
      "{'learning_rate': 0.5, 'n_estimators': 150}\n"
     ]
    }
   ],
   "source": [
    "grid = {'n_estimators': [10, 20, 25, 50, 100, 150],\n",
    "        'learning_rate': [1, 0.5, 0.25, 0.1, 0.05, 0.01, 0.001]}\n",
    "\n",
    "clf_ada = AdaBoostClassifier(random_state = 42)\n",
    "\n",
    "clf_ada_grid = GridSearchCV(clf_ada, grid, cv=8, scoring = 'f1', n_jobs = -1)\n",
    "clf_ada_grid.fit(X_train, y_train)\n",
    "\n",
    "best_params = clf_ada_grid.best_params_\n",
    "best_model = clf_ada_grid.best_estimator_\n",
    "\n",
    "print(best_params)"
   ]
  },
  {
   "cell_type": "code",
   "execution_count": 83,
   "id": "4f598a86-2905-4a53-9933-e6718a69cb99",
   "metadata": {},
   "outputs": [
    {
     "name": "stdout",
     "output_type": "stream",
     "text": [
      "                       Model    Recall  Precision  F1 Score  ROC-AUC Score\n",
      "0  Tuned AdaBoost Classifier  0.705882   0.717391   0.71159       0.802602\n"
     ]
    }
   ],
   "source": [
    "clf_ada_gs = AdaBoostClassifier(learning_rate = 0.5, n_estimators = 150,random_state = 42)\n",
    "\n",
    "clf_ada_gs.fit(X_train, y_train)\n",
    "y_pred = clf_ada_gs.predict(X_test)\n",
    "\n",
    "clf_ada_gs_metrics = calculate_metrics('Tuned AdaBoost Classifier', y_test, y_pred)"
   ]
  },
  {
   "cell_type": "code",
   "execution_count": 84,
   "id": "79181103-5195-4b46-9f51-cd44b1c78666",
   "metadata": {},
   "outputs": [
    {
     "name": "stdout",
     "output_type": "stream",
     "text": [
      "The optimum threshold is 0.497 with an F1 score of 0.739\n"
     ]
    }
   ],
   "source": [
    "optimal_threshold = find_threshold(clf_ada_gs, X_test, y_test)"
   ]
  },
  {
   "cell_type": "code",
   "execution_count": 85,
   "id": "e1ae151f-67e5-4314-b795-16d3338a1d66",
   "metadata": {},
   "outputs": [
    {
     "name": "stdout",
     "output_type": "stream",
     "text": [
      "                                 Model    Recall  Precision  F1 Score  \\\n",
      "0  Tuned Threshold AdaBoost Classifier  0.887701   0.632381  0.738598   \n",
      "\n",
      "   ROC-AUC Score  \n",
      "0       0.850433  \n"
     ]
    }
   ],
   "source": [
    "y_proba = clf_ada_gs.predict_proba(X_test)\n",
    "y_pred = (y_proba[:, 1] > optimal_threshold).astype(int)\n",
    "\n",
    "clf_ada_gs_thresh_metrics = calculate_metrics('Tuned Threshold AdaBoost Classifier', y_test, y_pred)"
   ]
  },
  {
   "cell_type": "code",
   "execution_count": 67,
   "id": "677d99e1-18c8-4faa-9a09-565594de4da5",
   "metadata": {},
   "outputs": [
    {
     "data": {
      "text/html": [
       "<div>\n",
       "<style scoped>\n",
       "    .dataframe tbody tr th:only-of-type {\n",
       "        vertical-align: middle;\n",
       "    }\n",
       "\n",
       "    .dataframe tbody tr th {\n",
       "        vertical-align: top;\n",
       "    }\n",
       "\n",
       "    .dataframe thead th {\n",
       "        text-align: right;\n",
       "    }\n",
       "</style>\n",
       "<table border=\"1\" class=\"dataframe\">\n",
       "  <thead>\n",
       "    <tr style=\"text-align: right;\">\n",
       "      <th></th>\n",
       "      <th>Model</th>\n",
       "      <th>Recall</th>\n",
       "      <th>Precision</th>\n",
       "      <th>F1 Score</th>\n",
       "      <th>ROC-AUC Score</th>\n",
       "    </tr>\n",
       "  </thead>\n",
       "  <tbody>\n",
       "    <tr>\n",
       "      <th>0</th>\n",
       "      <td>AdaBoost Classifier</td>\n",
       "      <td>0.711230</td>\n",
       "      <td>0.732782</td>\n",
       "      <td>0.721845</td>\n",
       "      <td>0.808664</td>\n",
       "    </tr>\n",
       "    <tr>\n",
       "      <th>0</th>\n",
       "      <td>Optimal Threshold AdaBoost Classifier</td>\n",
       "      <td>0.815508</td>\n",
       "      <td>0.674779</td>\n",
       "      <td>0.738499</td>\n",
       "      <td>0.836602</td>\n",
       "    </tr>\n",
       "    <tr>\n",
       "      <th>0</th>\n",
       "      <td>Tuned AdaBoost Classifier</td>\n",
       "      <td>0.705882</td>\n",
       "      <td>0.717391</td>\n",
       "      <td>0.711590</td>\n",
       "      <td>0.802602</td>\n",
       "    </tr>\n",
       "    <tr>\n",
       "      <th>0</th>\n",
       "      <td>Tuned Threshold AdaBoost Classifier</td>\n",
       "      <td>0.887701</td>\n",
       "      <td>0.632381</td>\n",
       "      <td>0.738598</td>\n",
       "      <td>0.850433</td>\n",
       "    </tr>\n",
       "  </tbody>\n",
       "</table>\n",
       "</div>"
      ],
      "text/plain": [
       "                                   Model    Recall  Precision  F1 Score  \\\n",
       "0                    AdaBoost Classifier  0.711230   0.732782  0.721845   \n",
       "0  Optimal Threshold AdaBoost Classifier  0.815508   0.674779  0.738499   \n",
       "0              Tuned AdaBoost Classifier  0.705882   0.717391  0.711590   \n",
       "0    Tuned Threshold AdaBoost Classifier  0.887701   0.632381  0.738598   \n",
       "\n",
       "   ROC-AUC Score  \n",
       "0       0.808664  \n",
       "0       0.836602  \n",
       "0       0.802602  \n",
       "0       0.850433  "
      ]
     },
     "execution_count": 67,
     "metadata": {},
     "output_type": "execute_result"
    }
   ],
   "source": [
    "ada = pd.concat([clf_ada_metrics, clf_ada_thresh_metrics, clf_ada_gs_metrics, clf_ada_gs_thresh_metrics])\n",
    "ada"
   ]
  },
  {
   "cell_type": "code",
   "execution_count": 86,
   "id": "8ec484cc-3ac0-46ad-b5c9-feb9e79c8f86",
   "metadata": {},
   "outputs": [
    {
     "data": {
      "text/html": [
       "<div>\n",
       "<style scoped>\n",
       "    .dataframe tbody tr th:only-of-type {\n",
       "        vertical-align: middle;\n",
       "    }\n",
       "\n",
       "    .dataframe tbody tr th {\n",
       "        vertical-align: top;\n",
       "    }\n",
       "\n",
       "    .dataframe thead th {\n",
       "        text-align: right;\n",
       "    }\n",
       "</style>\n",
       "<table border=\"1\" class=\"dataframe\">\n",
       "  <thead>\n",
       "    <tr style=\"text-align: right;\">\n",
       "      <th></th>\n",
       "      <th>Model</th>\n",
       "      <th>Recall</th>\n",
       "      <th>Precision</th>\n",
       "      <th>F1 Score</th>\n",
       "      <th>ROC-AUC Score</th>\n",
       "    </tr>\n",
       "  </thead>\n",
       "  <tbody>\n",
       "    <tr>\n",
       "      <th>0</th>\n",
       "      <td>Tuned Threshold Random Forest Classifier</td>\n",
       "      <td>0.879679</td>\n",
       "      <td>0.645098</td>\n",
       "      <td>0.744344</td>\n",
       "      <td>0.852231</td>\n",
       "    </tr>\n",
       "    <tr>\n",
       "      <th>0</th>\n",
       "      <td>Tuned Threshold Gradient Boosting Classifier</td>\n",
       "      <td>0.919786</td>\n",
       "      <td>0.622061</td>\n",
       "      <td>0.742179</td>\n",
       "      <td>0.858731</td>\n",
       "    </tr>\n",
       "    <tr>\n",
       "      <th>0</th>\n",
       "      <td>Optimal Threshold Random Forest Classifier</td>\n",
       "      <td>0.799465</td>\n",
       "      <td>0.687356</td>\n",
       "      <td>0.739184</td>\n",
       "      <td>0.833905</td>\n",
       "    </tr>\n",
       "    <tr>\n",
       "      <th>0</th>\n",
       "      <td>Tuned Threshold AdaBoost Classifier</td>\n",
       "      <td>0.887701</td>\n",
       "      <td>0.632381</td>\n",
       "      <td>0.738598</td>\n",
       "      <td>0.850433</td>\n",
       "    </tr>\n",
       "    <tr>\n",
       "      <th>0</th>\n",
       "      <td>Optimal Threshold AdaBoost Classifier</td>\n",
       "      <td>0.815508</td>\n",
       "      <td>0.674779</td>\n",
       "      <td>0.738499</td>\n",
       "      <td>0.836602</td>\n",
       "    </tr>\n",
       "    <tr>\n",
       "      <th>0</th>\n",
       "      <td>Optimal Threshold Gradient Boosting Classifier</td>\n",
       "      <td>0.871658</td>\n",
       "      <td>0.636719</td>\n",
       "      <td>0.735892</td>\n",
       "      <td>0.845800</td>\n",
       "    </tr>\n",
       "    <tr>\n",
       "      <th>0</th>\n",
       "      <td>Tuned Threshold XGB Classifier</td>\n",
       "      <td>0.898396</td>\n",
       "      <td>0.618785</td>\n",
       "      <td>0.732824</td>\n",
       "      <td>0.849004</td>\n",
       "    </tr>\n",
       "    <tr>\n",
       "      <th>0</th>\n",
       "      <td>Tuned Random Forest Classifier</td>\n",
       "      <td>0.700535</td>\n",
       "      <td>0.748571</td>\n",
       "      <td>0.723757</td>\n",
       "      <td>0.807673</td>\n",
       "    </tr>\n",
       "    <tr>\n",
       "      <th>0</th>\n",
       "      <td>Tuned XGB Classifier</td>\n",
       "      <td>0.705882</td>\n",
       "      <td>0.741573</td>\n",
       "      <td>0.723288</td>\n",
       "      <td>0.808411</td>\n",
       "    </tr>\n",
       "    <tr>\n",
       "      <th>0</th>\n",
       "      <td>AdaBoost Classifier</td>\n",
       "      <td>0.711230</td>\n",
       "      <td>0.732782</td>\n",
       "      <td>0.721845</td>\n",
       "      <td>0.808664</td>\n",
       "    </tr>\n",
       "    <tr>\n",
       "      <th>0</th>\n",
       "      <td>Gradient Boosting Classifier</td>\n",
       "      <td>0.695187</td>\n",
       "      <td>0.738636</td>\n",
       "      <td>0.716253</td>\n",
       "      <td>0.803063</td>\n",
       "    </tr>\n",
       "    <tr>\n",
       "      <th>0</th>\n",
       "      <td>Optimal Threshold XGB Classifier</td>\n",
       "      <td>0.802139</td>\n",
       "      <td>0.645161</td>\n",
       "      <td>0.715137</td>\n",
       "      <td>0.821205</td>\n",
       "    </tr>\n",
       "    <tr>\n",
       "      <th>0</th>\n",
       "      <td>Random Forest Classifier</td>\n",
       "      <td>0.692513</td>\n",
       "      <td>0.737892</td>\n",
       "      <td>0.714483</td>\n",
       "      <td>0.801726</td>\n",
       "    </tr>\n",
       "    <tr>\n",
       "      <th>0</th>\n",
       "      <td>Tuned Gradient Boosting Classifier</td>\n",
       "      <td>0.695187</td>\n",
       "      <td>0.734463</td>\n",
       "      <td>0.714286</td>\n",
       "      <td>0.802095</td>\n",
       "    </tr>\n",
       "    <tr>\n",
       "      <th>0</th>\n",
       "      <td>Tuned AdaBoost Classifier</td>\n",
       "      <td>0.705882</td>\n",
       "      <td>0.717391</td>\n",
       "      <td>0.711590</td>\n",
       "      <td>0.802602</td>\n",
       "    </tr>\n",
       "    <tr>\n",
       "      <th>0</th>\n",
       "      <td>XGB Classifier</td>\n",
       "      <td>0.681818</td>\n",
       "      <td>0.708333</td>\n",
       "      <td>0.694823</td>\n",
       "      <td>0.790086</td>\n",
       "    </tr>\n",
       "  </tbody>\n",
       "</table>\n",
       "</div>"
      ],
      "text/plain": [
       "                                            Model    Recall  Precision  \\\n",
       "0        Tuned Threshold Random Forest Classifier  0.879679   0.645098   \n",
       "0    Tuned Threshold Gradient Boosting Classifier  0.919786   0.622061   \n",
       "0      Optimal Threshold Random Forest Classifier  0.799465   0.687356   \n",
       "0             Tuned Threshold AdaBoost Classifier  0.887701   0.632381   \n",
       "0           Optimal Threshold AdaBoost Classifier  0.815508   0.674779   \n",
       "0  Optimal Threshold Gradient Boosting Classifier  0.871658   0.636719   \n",
       "0                  Tuned Threshold XGB Classifier  0.898396   0.618785   \n",
       "0                  Tuned Random Forest Classifier  0.700535   0.748571   \n",
       "0                            Tuned XGB Classifier  0.705882   0.741573   \n",
       "0                             AdaBoost Classifier  0.711230   0.732782   \n",
       "0                    Gradient Boosting Classifier  0.695187   0.738636   \n",
       "0                Optimal Threshold XGB Classifier  0.802139   0.645161   \n",
       "0                        Random Forest Classifier  0.692513   0.737892   \n",
       "0              Tuned Gradient Boosting Classifier  0.695187   0.734463   \n",
       "0                       Tuned AdaBoost Classifier  0.705882   0.717391   \n",
       "0                                  XGB Classifier  0.681818   0.708333   \n",
       "\n",
       "   F1 Score  ROC-AUC Score  \n",
       "0  0.744344       0.852231  \n",
       "0  0.742179       0.858731  \n",
       "0  0.739184       0.833905  \n",
       "0  0.738598       0.850433  \n",
       "0  0.738499       0.836602  \n",
       "0  0.735892       0.845800  \n",
       "0  0.732824       0.849004  \n",
       "0  0.723757       0.807673  \n",
       "0  0.723288       0.808411  \n",
       "0  0.721845       0.808664  \n",
       "0  0.716253       0.803063  \n",
       "0  0.715137       0.821205  \n",
       "0  0.714483       0.801726  \n",
       "0  0.714286       0.802095  \n",
       "0  0.711590       0.802602  \n",
       "0  0.694823       0.790086  "
      ]
     },
     "execution_count": 86,
     "metadata": {},
     "output_type": "execute_result"
    }
   ],
   "source": [
    "rf_gb_xgboo_ada = pd.concat([rf, gb, xgboo, ada])\n",
    "rf_gb_xgboo_ada.sort_values('F1 Score', ascending =  False)"
   ]
  },
  {
   "cell_type": "code",
   "execution_count": null,
   "id": "14040f7a-bfe0-4ac8-917a-0f851fd38bd6",
   "metadata": {},
   "outputs": [],
   "source": []
  }
 ],
 "metadata": {
  "kernelspec": {
   "display_name": "Python 3 (ipykernel)",
   "language": "python",
   "name": "python3"
  },
  "language_info": {
   "codemirror_mode": {
    "name": "ipython",
    "version": 3
   },
   "file_extension": ".py",
   "mimetype": "text/x-python",
   "name": "python",
   "nbconvert_exporter": "python",
   "pygments_lexer": "ipython3",
   "version": "3.10.4"
  }
 },
 "nbformat": 4,
 "nbformat_minor": 5
}
