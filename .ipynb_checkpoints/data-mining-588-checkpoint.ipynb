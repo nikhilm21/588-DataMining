{
 "cells": [
  {
   "cell_type": "code",
   "execution_count": 1,
   "id": "62255143",
   "metadata": {
    "_cell_guid": "b1076dfc-b9ad-4769-8c92-a6c4dae69d19",
    "_uuid": "8f2839f25d086af736a60e9eeb907d3b93b6e0e5",
    "execution": {
     "iopub.execute_input": "2023-04-05T02:55:33.293990Z",
     "iopub.status.busy": "2023-04-05T02:55:33.293406Z",
     "iopub.status.idle": "2023-04-05T02:55:34.942319Z",
     "shell.execute_reply": "2023-04-05T02:55:34.940960Z"
    },
    "papermill": {
     "duration": 1.660025,
     "end_time": "2023-04-05T02:55:34.945562",
     "exception": false,
     "start_time": "2023-04-05T02:55:33.285537",
     "status": "completed"
    },
    "tags": []
   },
   "outputs": [],
   "source": [
    "import itertools\n",
    "\n",
    "import numpy as np\n",
    "import pandas as pd\n",
    "\n",
    "from matplotlib import pyplot as plt\n",
    "import seaborn as sns\n",
    "\n",
    "from sklearn.feature_selection import VarianceThreshold\n",
    "from sklearn.preprocessing import normalize\n",
    "from sklearn.decomposition import PCA"
   ]
  },
  {
   "cell_type": "code",
   "execution_count": 2,
   "id": "2aa14987",
   "metadata": {
    "execution": {
     "iopub.execute_input": "2023-04-05T02:55:34.957070Z",
     "iopub.status.busy": "2023-04-05T02:55:34.956648Z",
     "iopub.status.idle": "2023-04-05T02:55:34.963186Z",
     "shell.execute_reply": "2023-04-05T02:55:34.962073Z"
    },
    "papermill": {
     "duration": 0.015756,
     "end_time": "2023-04-05T02:55:34.966098",
     "exception": false,
     "start_time": "2023-04-05T02:55:34.950342",
     "status": "completed"
    },
    "tags": []
   },
   "outputs": [],
   "source": [
    "import warnings\n",
    "warnings.filterwarnings('ignore')"
   ]
  },
  {
   "cell_type": "markdown",
   "id": "3f624313",
   "metadata": {
    "papermill": {
     "duration": 0.004252,
     "end_time": "2023-04-05T02:55:34.974997",
     "exception": false,
     "start_time": "2023-04-05T02:55:34.970745",
     "status": "completed"
    },
    "tags": []
   },
   "source": [
    "### 1. Loading the train and test data"
   ]
  },
  {
   "cell_type": "code",
   "execution_count": 3,
   "id": "e89fa39e",
   "metadata": {
    "execution": {
     "iopub.execute_input": "2023-04-05T02:55:34.988039Z",
     "iopub.status.busy": "2023-04-05T02:55:34.986834Z",
     "iopub.status.idle": "2023-04-05T02:55:40.884162Z",
     "shell.execute_reply": "2023-04-05T02:55:40.882838Z"
    },
    "papermill": {
     "duration": 5.90655,
     "end_time": "2023-04-05T02:55:40.887131",
     "exception": false,
     "start_time": "2023-04-05T02:55:34.980581",
     "status": "completed"
    },
    "tags": []
   },
   "outputs": [],
   "source": [
    "df_train = pd.read_csv(\"data/train.csv\")\n",
    "df_test = pd.read_csv(\"data/test.csv\")"
   ]
  },
  {
   "cell_type": "code",
   "execution_count": 4,
   "id": "b5c81e25",
   "metadata": {
    "execution": {
     "iopub.execute_input": "2023-04-05T02:55:40.898392Z",
     "iopub.status.busy": "2023-04-05T02:55:40.897962Z",
     "iopub.status.idle": "2023-04-05T02:55:40.986373Z",
     "shell.execute_reply": "2023-04-05T02:55:40.984943Z"
    },
    "papermill": {
     "duration": 0.09749,
     "end_time": "2023-04-05T02:55:40.989394",
     "exception": false,
     "start_time": "2023-04-05T02:55:40.891904",
     "status": "completed"
    },
    "tags": []
   },
   "outputs": [],
   "source": [
    "X_train = df_train.drop(['TARGET'], axis = 1)\n",
    "y_train = df_train['TARGET']"
   ]
  },
  {
   "cell_type": "code",
   "execution_count": 5,
   "id": "6d3a2f15",
   "metadata": {
    "execution": {
     "iopub.execute_input": "2023-04-05T02:55:41.000949Z",
     "iopub.status.busy": "2023-04-05T02:55:41.000088Z",
     "iopub.status.idle": "2023-04-05T02:55:41.010146Z",
     "shell.execute_reply": "2023-04-05T02:55:41.008802Z"
    },
    "papermill": {
     "duration": 0.018723,
     "end_time": "2023-04-05T02:55:41.012770",
     "exception": false,
     "start_time": "2023-04-05T02:55:40.994047",
     "status": "completed"
    },
    "tags": []
   },
   "outputs": [
    {
     "data": {
      "text/plain": [
       "((76020, 370), (75818, 370))"
      ]
     },
     "execution_count": 5,
     "metadata": {},
     "output_type": "execute_result"
    }
   ],
   "source": [
    "X_train.shape, df_test.shape"
   ]
  },
  {
   "cell_type": "markdown",
   "id": "7b504155",
   "metadata": {
    "papermill": {
     "duration": 0.004443,
     "end_time": "2023-04-05T02:55:41.022712",
     "exception": false,
     "start_time": "2023-04-05T02:55:41.018269",
     "status": "completed"
    },
    "tags": []
   },
   "source": [
    "##### We notice that there are a huge number of features, hence, we proceed with Feature Selection to choose only the ones that contribute to the need."
   ]
  },
  {
   "cell_type": "markdown",
   "id": "173baa45",
   "metadata": {
    "papermill": {
     "duration": 0.004317,
     "end_time": "2023-04-05T02:55:41.031754",
     "exception": false,
     "start_time": "2023-04-05T02:55:41.027437",
     "status": "completed"
    },
    "tags": []
   },
   "source": [
    "### 2. Feature Selection\n",
    "\n",
    "With the dataset with so many features, we might run into problems such as:\n",
    "\n",
    "<ol>\n",
    "<li><b>Constant features:</b></li>\n",
    "<ul>\n",
    "    <li>Features that show the same value, one value, for all the observations of the dataset.</li>\n",
    "    <li>They provide no information that allows a machine learning model to predict the target.</li>\n",
    "    <li>To identify constant features, we are using VarianceThreshold from sklearn and remove them.</li>\n",
    "</ul>\n",
    "    \n",
    "<h6></h6>\n",
    "    \n",
    "<li><b>Quasi-Constant features:</b></li>\n",
    "<ul>\n",
    "    <li>Quasi-constant features have the same value for the majority of observations in a dataset. </li>\n",
    "    <li>These types of features typically do not provide much information for machine learning models to predict or classify a target.</li>\n",
    "    <li>To identify quasi-constant features, we are again going to use VarianceThreshold from sklearn and remove them.</li>\n",
    "</ul>"
   ]
  },
  {
   "cell_type": "code",
   "execution_count": 6,
   "id": "8368beb2",
   "metadata": {
    "execution": {
     "iopub.execute_input": "2023-04-05T02:55:41.044179Z",
     "iopub.status.busy": "2023-04-05T02:55:41.043410Z",
     "iopub.status.idle": "2023-04-05T02:55:41.458671Z",
     "shell.execute_reply": "2023-04-05T02:55:41.457200Z"
    },
    "papermill": {
     "duration": 0.424719,
     "end_time": "2023-04-05T02:55:41.461646",
     "exception": false,
     "start_time": "2023-04-05T02:55:41.036927",
     "status": "completed"
    },
    "tags": []
   },
   "outputs": [
    {
     "data": {
      "text/html": [
       "<style>#sk-container-id-1 {color: black;background-color: white;}#sk-container-id-1 pre{padding: 0;}#sk-container-id-1 div.sk-toggleable {background-color: white;}#sk-container-id-1 label.sk-toggleable__label {cursor: pointer;display: block;width: 100%;margin-bottom: 0;padding: 0.3em;box-sizing: border-box;text-align: center;}#sk-container-id-1 label.sk-toggleable__label-arrow:before {content: \"▸\";float: left;margin-right: 0.25em;color: #696969;}#sk-container-id-1 label.sk-toggleable__label-arrow:hover:before {color: black;}#sk-container-id-1 div.sk-estimator:hover label.sk-toggleable__label-arrow:before {color: black;}#sk-container-id-1 div.sk-toggleable__content {max-height: 0;max-width: 0;overflow: hidden;text-align: left;background-color: #f0f8ff;}#sk-container-id-1 div.sk-toggleable__content pre {margin: 0.2em;color: black;border-radius: 0.25em;background-color: #f0f8ff;}#sk-container-id-1 input.sk-toggleable__control:checked~div.sk-toggleable__content {max-height: 200px;max-width: 100%;overflow: auto;}#sk-container-id-1 input.sk-toggleable__control:checked~label.sk-toggleable__label-arrow:before {content: \"▾\";}#sk-container-id-1 div.sk-estimator input.sk-toggleable__control:checked~label.sk-toggleable__label {background-color: #d4ebff;}#sk-container-id-1 div.sk-label input.sk-toggleable__control:checked~label.sk-toggleable__label {background-color: #d4ebff;}#sk-container-id-1 input.sk-hidden--visually {border: 0;clip: rect(1px 1px 1px 1px);clip: rect(1px, 1px, 1px, 1px);height: 1px;margin: -1px;overflow: hidden;padding: 0;position: absolute;width: 1px;}#sk-container-id-1 div.sk-estimator {font-family: monospace;background-color: #f0f8ff;border: 1px dotted black;border-radius: 0.25em;box-sizing: border-box;margin-bottom: 0.5em;}#sk-container-id-1 div.sk-estimator:hover {background-color: #d4ebff;}#sk-container-id-1 div.sk-parallel-item::after {content: \"\";width: 100%;border-bottom: 1px solid gray;flex-grow: 1;}#sk-container-id-1 div.sk-label:hover label.sk-toggleable__label {background-color: #d4ebff;}#sk-container-id-1 div.sk-serial::before {content: \"\";position: absolute;border-left: 1px solid gray;box-sizing: border-box;top: 0;bottom: 0;left: 50%;z-index: 0;}#sk-container-id-1 div.sk-serial {display: flex;flex-direction: column;align-items: center;background-color: white;padding-right: 0.2em;padding-left: 0.2em;position: relative;}#sk-container-id-1 div.sk-item {position: relative;z-index: 1;}#sk-container-id-1 div.sk-parallel {display: flex;align-items: stretch;justify-content: center;background-color: white;position: relative;}#sk-container-id-1 div.sk-item::before, #sk-container-id-1 div.sk-parallel-item::before {content: \"\";position: absolute;border-left: 1px solid gray;box-sizing: border-box;top: 0;bottom: 0;left: 50%;z-index: -1;}#sk-container-id-1 div.sk-parallel-item {display: flex;flex-direction: column;z-index: 1;position: relative;background-color: white;}#sk-container-id-1 div.sk-parallel-item:first-child::after {align-self: flex-end;width: 50%;}#sk-container-id-1 div.sk-parallel-item:last-child::after {align-self: flex-start;width: 50%;}#sk-container-id-1 div.sk-parallel-item:only-child::after {width: 0;}#sk-container-id-1 div.sk-dashed-wrapped {border: 1px dashed gray;margin: 0 0.4em 0.5em 0.4em;box-sizing: border-box;padding-bottom: 0.4em;background-color: white;}#sk-container-id-1 div.sk-label label {font-family: monospace;font-weight: bold;display: inline-block;line-height: 1.2em;}#sk-container-id-1 div.sk-label-container {text-align: center;}#sk-container-id-1 div.sk-container {/* jupyter's `normalize.less` sets `[hidden] { display: none; }` but bootstrap.min.css set `[hidden] { display: none !important; }` so we also need the `!important` here to be able to override the default hidden behavior on the sphinx rendered scikit-learn.org. See: https://github.com/scikit-learn/scikit-learn/issues/21755 */display: inline-block !important;position: relative;}#sk-container-id-1 div.sk-text-repr-fallback {display: none;}</style><div id=\"sk-container-id-1\" class=\"sk-top-container\"><div class=\"sk-text-repr-fallback\"><pre>VarianceThreshold(threshold=0.01)</pre><b>In a Jupyter environment, please rerun this cell to show the HTML representation or trust the notebook. <br />On GitHub, the HTML representation is unable to render, please try loading this page with nbviewer.org.</b></div><div class=\"sk-container\" hidden><div class=\"sk-item\"><div class=\"sk-estimator sk-toggleable\"><input class=\"sk-toggleable__control sk-hidden--visually\" id=\"sk-estimator-id-1\" type=\"checkbox\" checked><label for=\"sk-estimator-id-1\" class=\"sk-toggleable__label sk-toggleable__label-arrow\">VarianceThreshold</label><div class=\"sk-toggleable__content\"><pre>VarianceThreshold(threshold=0.01)</pre></div></div></div></div></div>"
      ],
      "text/plain": [
       "VarianceThreshold(threshold=0.01)"
      ]
     },
     "execution_count": 6,
     "metadata": {},
     "output_type": "execute_result"
    }
   ],
   "source": [
    "#Fitting the VarianceThreshold\n",
    "\n",
    "vthres = VarianceThreshold(threshold = 0.01)\n",
    "vthres.fit(X_train)"
   ]
  },
  {
   "cell_type": "code",
   "execution_count": 7,
   "id": "0a02fea5",
   "metadata": {
    "execution": {
     "iopub.execute_input": "2023-04-05T02:55:41.474726Z",
     "iopub.status.busy": "2023-04-05T02:55:41.473207Z",
     "iopub.status.idle": "2023-04-05T02:55:41.483140Z",
     "shell.execute_reply": "2023-04-05T02:55:41.481504Z"
    },
    "papermill": {
     "duration": 0.019333,
     "end_time": "2023-04-05T02:55:41.486154",
     "exception": false,
     "start_time": "2023-04-05T02:55:41.466821",
     "status": "completed"
    },
    "tags": []
   },
   "outputs": [
    {
     "name": "stdout",
     "output_type": "stream",
     "text": [
      "Originial Features:  370\n",
      "Non-Constant Features:  273\n"
     ]
    }
   ],
   "source": [
    "#Number of features that are non-constant\n",
    "\n",
    "print(\"Originial Features: \",X_train.shape[1])\n",
    "print(\"Non-Constant Features: \", sum(vthres.get_support()))"
   ]
  },
  {
   "cell_type": "code",
   "execution_count": 8,
   "id": "3eaf4df8",
   "metadata": {
    "execution": {
     "iopub.execute_input": "2023-04-05T02:55:41.499685Z",
     "iopub.status.busy": "2023-04-05T02:55:41.498147Z",
     "iopub.status.idle": "2023-04-05T02:55:41.536483Z",
     "shell.execute_reply": "2023-04-05T02:55:41.535300Z"
    },
    "papermill": {
     "duration": 0.048021,
     "end_time": "2023-04-05T02:55:41.539299",
     "exception": false,
     "start_time": "2023-04-05T02:55:41.491278",
     "status": "completed"
    },
    "tags": []
   },
   "outputs": [
    {
     "name": "stdout",
     "output_type": "stream",
     "text": [
      "97\n"
     ]
    },
    {
     "data": {
      "text/plain": [
       "['ind_var1',\n",
       " 'ind_var2_0',\n",
       " 'ind_var2',\n",
       " 'ind_var6_0',\n",
       " 'ind_var6',\n",
       " 'ind_var13_largo',\n",
       " 'ind_var13_medio_0',\n",
       " 'ind_var13_medio',\n",
       " 'ind_var14',\n",
       " 'ind_var17_0',\n",
       " 'ind_var17',\n",
       " 'ind_var18_0',\n",
       " 'ind_var18',\n",
       " 'ind_var19',\n",
       " 'ind_var20_0',\n",
       " 'ind_var20',\n",
       " 'ind_var27_0',\n",
       " 'ind_var28_0',\n",
       " 'ind_var28',\n",
       " 'ind_var27',\n",
       " 'ind_var29_0',\n",
       " 'ind_var29',\n",
       " 'ind_var30_0',\n",
       " 'ind_var31_0',\n",
       " 'ind_var31',\n",
       " 'ind_var32_cte',\n",
       " 'ind_var32_0',\n",
       " 'ind_var32',\n",
       " 'ind_var33_0',\n",
       " 'ind_var33',\n",
       " 'ind_var34_0',\n",
       " 'ind_var34',\n",
       " 'ind_var40',\n",
       " 'ind_var41',\n",
       " 'ind_var39',\n",
       " 'ind_var44_0',\n",
       " 'ind_var44',\n",
       " 'ind_var46_0',\n",
       " 'ind_var46',\n",
       " 'num_var6_0',\n",
       " 'num_var6',\n",
       " 'num_var13_medio_0',\n",
       " 'num_var13_medio',\n",
       " 'num_var18_0',\n",
       " 'num_var18',\n",
       " 'num_var27_0',\n",
       " 'num_var28_0',\n",
       " 'num_var28',\n",
       " 'num_var27',\n",
       " 'num_var29_0',\n",
       " 'num_var29',\n",
       " 'num_var33',\n",
       " 'num_var34_0',\n",
       " 'num_var34',\n",
       " 'num_var41',\n",
       " 'num_var46_0',\n",
       " 'num_var46',\n",
       " 'saldo_var28',\n",
       " 'saldo_var27',\n",
       " 'saldo_var41',\n",
       " 'saldo_var46',\n",
       " 'imp_amort_var18_hace3',\n",
       " 'imp_amort_var34_hace3',\n",
       " 'imp_reemb_var13_hace3',\n",
       " 'imp_reemb_var33_hace3',\n",
       " 'imp_trasp_var17_out_hace3',\n",
       " 'imp_trasp_var33_out_hace3',\n",
       " 'ind_var7_emit_ult1',\n",
       " 'ind_var7_recib_ult1',\n",
       " 'num_var2_0_ult1',\n",
       " 'num_var2_ult1',\n",
       " 'num_aport_var33_hace3',\n",
       " 'num_aport_var33_ult1',\n",
       " 'num_var7_emit_ult1',\n",
       " 'num_compra_var44_hace3',\n",
       " 'num_meses_var13_medio_ult3',\n",
       " 'num_meses_var17_ult3',\n",
       " 'num_meses_var29_ult3',\n",
       " 'num_meses_var33_ult3',\n",
       " 'num_meses_var44_ult3',\n",
       " 'num_reemb_var13_hace3',\n",
       " 'num_reemb_var13_ult1',\n",
       " 'num_reemb_var17_hace3',\n",
       " 'num_reemb_var17_ult1',\n",
       " 'num_reemb_var33_hace3',\n",
       " 'num_reemb_var33_ult1',\n",
       " 'num_trasp_var17_in_hace3',\n",
       " 'num_trasp_var17_in_ult1',\n",
       " 'num_trasp_var17_out_hace3',\n",
       " 'num_trasp_var17_out_ult1',\n",
       " 'num_trasp_var33_in_hace3',\n",
       " 'num_trasp_var33_in_ult1',\n",
       " 'num_trasp_var33_out_hace3',\n",
       " 'num_trasp_var33_out_ult1',\n",
       " 'num_venta_var44_hace3',\n",
       " 'saldo_var2_ult1',\n",
       " 'saldo_medio_var13_medio_hace3']"
      ]
     },
     "execution_count": 8,
     "metadata": {},
     "output_type": "execute_result"
    }
   ],
   "source": [
    "# printing the constant features\n",
    "\n",
    "print(len([\n",
    "        x for x in X_train.columns\n",
    "        if x not in X_train.columns[vthres.get_support()]\n",
    "    ]))\n",
    "\n",
    "[x for x in X_train.columns if x not in X_train.columns[vthres.get_support()]]"
   ]
  },
  {
   "cell_type": "markdown",
   "id": "8ad67d3d",
   "metadata": {
    "papermill": {
     "duration": 0.005541,
     "end_time": "2023-04-05T02:55:41.550036",
     "exception": false,
     "start_time": "2023-04-05T02:55:41.544495",
     "status": "completed"
    },
    "tags": []
   },
   "source": [
    "> We can see the above 34 columns have constant value hence we are going to get rid of them, as they make no contributions."
   ]
  },
  {
   "cell_type": "code",
   "execution_count": 9,
   "id": "cd3e80b2",
   "metadata": {
    "execution": {
     "iopub.execute_input": "2023-04-05T02:55:41.564210Z",
     "iopub.status.busy": "2023-04-05T02:55:41.562813Z",
     "iopub.status.idle": "2023-04-05T02:55:41.836810Z",
     "shell.execute_reply": "2023-04-05T02:55:41.835613Z"
    },
    "papermill": {
     "duration": 0.284004,
     "end_time": "2023-04-05T02:55:41.839827",
     "exception": false,
     "start_time": "2023-04-05T02:55:41.555823",
     "status": "completed"
    },
    "tags": []
   },
   "outputs": [],
   "source": [
    "# Dropping the columns from train and test sets\n",
    "\n",
    "X_train = vthres.transform(X_train)\n",
    "df_test = vthres.transform(df_test)"
   ]
  },
  {
   "cell_type": "code",
   "execution_count": 10,
   "id": "ccb28158",
   "metadata": {
    "execution": {
     "iopub.execute_input": "2023-04-05T02:55:41.852443Z",
     "iopub.status.busy": "2023-04-05T02:55:41.852000Z",
     "iopub.status.idle": "2023-04-05T02:55:41.860102Z",
     "shell.execute_reply": "2023-04-05T02:55:41.858715Z"
    },
    "papermill": {
     "duration": 0.01754,
     "end_time": "2023-04-05T02:55:41.862829",
     "exception": false,
     "start_time": "2023-04-05T02:55:41.845289",
     "status": "completed"
    },
    "tags": []
   },
   "outputs": [
    {
     "data": {
      "text/plain": [
       "((76020, 273), (75818, 273))"
      ]
     },
     "execution_count": 10,
     "metadata": {},
     "output_type": "execute_result"
    }
   ],
   "source": [
    "# Checking the updated shape of train and test data\n",
    "\n",
    "X_train.shape, df_test.shape"
   ]
  },
  {
   "cell_type": "markdown",
   "id": "6307f4aa",
   "metadata": {
    "papermill": {
     "duration": 0.004807,
     "end_time": "2023-04-05T02:55:41.873008",
     "exception": false,
     "start_time": "2023-04-05T02:55:41.868201",
     "status": "completed"
    },
    "tags": []
   },
   "source": [
    "<span style = 'font-size:16px; font-family:TimesNewRoman'> By removing constant and quasi-constant features, we reduced the feature space from 370 to 273. We can see that 97 features were removed from the present dataset.</span>"
   ]
  },
  {
   "cell_type": "markdown",
   "id": "fa436c38",
   "metadata": {
    "papermill": {
     "duration": 0.004809,
     "end_time": "2023-04-05T02:55:41.883008",
     "exception": false,
     "start_time": "2023-04-05T02:55:41.878199",
     "status": "completed"
    },
    "tags": []
   },
   "source": [
    "### PCA\n",
    "\n",
    "PCA stands for Principal Component Analysis. It is a statistical technique used to reduce the dimensionality of a dataset while retaining as much of the variation in the data as possible.\n",
    "\n",
    "PCA works by transforming a dataset consisting of many variables into a smaller set of variables called principal components. The principal components are linear combinations of the original variables that capture the maximum amount of variation in the data.\n",
    "\n",
    "The first principal component captures the most variation in the data, the second principal component captures the second most variation, and so on. By retaining only the top principal components, PCA can reduce the number of variables in the dataset while still preserving most of the information.\n",
    "\n",
    "PCA is often used in data preprocessing, data visualization, and machine learning. It can be used to identify patterns and relationships in the data, to reduce noise, and to create more parsimonious models."
   ]
  },
  {
   "cell_type": "code",
   "execution_count": 61,
   "id": "d513b443",
   "metadata": {
    "execution": {
     "iopub.execute_input": "2023-04-05T00:50:54.756357Z",
     "iopub.status.busy": "2023-04-05T00:50:54.755602Z",
     "iopub.status.idle": "2023-04-05T00:50:54.769079Z",
     "shell.execute_reply": "2023-04-05T00:50:54.767426Z",
     "shell.execute_reply.started": "2023-04-05T00:50:54.756309Z"
    },
    "papermill": {
     "duration": 0.005312,
     "end_time": "2023-04-05T02:55:41.893828",
     "exception": false,
     "start_time": "2023-04-05T02:55:41.888516",
     "status": "completed"
    },
    "tags": []
   },
   "outputs": [
    {
     "name": "stdout",
     "output_type": "stream",
     "text": [
      "Number of components selected: 5\n"
     ]
    }
   ],
   "source": [
    "# Create a PCA object and fit your data\n",
    "pca = PCA(whiten = True, svd_solver='auto', iterated_power='auto', n_oversamples=10, power_iteration_normalizer='auto', random_state=None).fit(X_train)\n",
    "\n",
    "# Get the explained variance ratio for each component\n",
    "variance_ratio = pca.explained_variance_ratio_\n",
    "#print(variance_ratio)\n",
    "\n",
    "# Get the cumulative sum of explained variance ratio\n",
    "cumulative_variance_ratio = np.cumsum(variance_ratio)\n",
    "#print(cumulative_variance_ratio)\n",
    "\n",
    "# Find the number of components that explain 95% of the variance\n",
    "n_components = np.argmax(cumulative_variance_ratio >= 0.95)\n",
    "\n",
    "# Transform the data to the selected number of components\n",
    "X_transformed = PCA(n_components=n_components).fit_transform(X_train)\n",
    "\n",
    "# Print the selected number of components\n",
    "print(\"Number of components selected:\", n_components)"
   ]
  },
  {
   "cell_type": "code",
   "execution_count": null,
   "id": "83045d6c",
   "metadata": {},
   "outputs": [],
   "source": []
  }
 ],
 "metadata": {
  "kernelspec": {
   "display_name": "Python 3 (ipykernel)",
   "language": "python",
   "name": "python3"
  },
  "language_info": {
   "codemirror_mode": {
    "name": "ipython",
    "version": 3
   },
   "file_extension": ".py",
   "mimetype": "text/x-python",
   "name": "python",
   "nbconvert_exporter": "python",
   "pygments_lexer": "ipython3",
   "version": "3.9.12"
  },
  "papermill": {
   "default_parameters": {},
   "duration": 20.646417,
   "end_time": "2023-04-05T02:55:42.723787",
   "environment_variables": {},
   "exception": null,
   "input_path": "__notebook__.ipynb",
   "output_path": "__notebook__.ipynb",
   "parameters": {},
   "start_time": "2023-04-05T02:55:22.077370",
   "version": "2.4.0"
  }
 },
 "nbformat": 4,
 "nbformat_minor": 5
}
